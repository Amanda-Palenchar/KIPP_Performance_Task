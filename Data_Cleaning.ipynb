{
 "cells": [
  {
   "cell_type": "markdown",
   "id": "84aebacc",
   "metadata": {},
   "source": [
    "## Import Data & Merge Dataframes"
   ]
  },
  {
   "cell_type": "code",
   "execution_count": 1,
   "id": "bac366a4",
   "metadata": {},
   "outputs": [],
   "source": [
    "# Import dependencies\n",
    "import pandas as pd\n",
    "from pathlib import Path \n",
    "import numpy as np"
   ]
  },
  {
   "cell_type": "code",
   "execution_count": 2,
   "id": "4694787c",
   "metadata": {},
   "outputs": [
    {
     "data": {
      "text/html": [
       "<div>\n",
       "<style scoped>\n",
       "    .dataframe tbody tr th:only-of-type {\n",
       "        vertical-align: middle;\n",
       "    }\n",
       "\n",
       "    .dataframe tbody tr th {\n",
       "        vertical-align: top;\n",
       "    }\n",
       "\n",
       "    .dataframe thead th {\n",
       "        text-align: right;\n",
       "    }\n",
       "</style>\n",
       "<table border=\"1\" class=\"dataframe\">\n",
       "  <thead>\n",
       "    <tr style=\"text-align: right;\">\n",
       "      <th></th>\n",
       "      <th>student_id</th>\n",
       "      <th>school_name</th>\n",
       "      <th>grade_level_2019</th>\n",
       "    </tr>\n",
       "  </thead>\n",
       "  <tbody>\n",
       "    <tr>\n",
       "      <th>0</th>\n",
       "      <td>13898</td>\n",
       "      <td>School G</td>\n",
       "      <td>1</td>\n",
       "    </tr>\n",
       "    <tr>\n",
       "      <th>1</th>\n",
       "      <td>27795</td>\n",
       "      <td>School G</td>\n",
       "      <td>1</td>\n",
       "    </tr>\n",
       "    <tr>\n",
       "      <th>2</th>\n",
       "      <td>22938</td>\n",
       "      <td>School E</td>\n",
       "      <td>1</td>\n",
       "    </tr>\n",
       "    <tr>\n",
       "      <th>3</th>\n",
       "      <td>22431</td>\n",
       "      <td>School F</td>\n",
       "      <td>1</td>\n",
       "    </tr>\n",
       "    <tr>\n",
       "      <th>4</th>\n",
       "      <td>18048</td>\n",
       "      <td>School E</td>\n",
       "      <td>1</td>\n",
       "    </tr>\n",
       "  </tbody>\n",
       "</table>\n",
       "</div>"
      ],
      "text/plain": [
       "   student_id school_name  grade_level_2019\n",
       "0       13898    School G                 1\n",
       "1       27795    School G                 1\n",
       "2       22938    School E                 1\n",
       "3       22431    School F                 1\n",
       "4       18048    School E                 1"
      ]
     },
     "execution_count": 2,
     "metadata": {},
     "output_type": "execute_result"
    }
   ],
   "source": [
    "# Create student info dataframe\n",
    "student_info_df=pd.read_csv(\"Resources/Student_Info.csv\")\n",
    "student_info_df.head()"
   ]
  },
  {
   "cell_type": "code",
   "execution_count": 3,
   "id": "163f69c9",
   "metadata": {},
   "outputs": [
    {
     "data": {
      "text/html": [
       "<div>\n",
       "<style scoped>\n",
       "    .dataframe tbody tr th:only-of-type {\n",
       "        vertical-align: middle;\n",
       "    }\n",
       "\n",
       "    .dataframe tbody tr th {\n",
       "        vertical-align: top;\n",
       "    }\n",
       "\n",
       "    .dataframe thead th {\n",
       "        text-align: right;\n",
       "    }\n",
       "</style>\n",
       "<table border=\"1\" class=\"dataframe\">\n",
       "  <thead>\n",
       "    <tr style=\"text-align: right;\">\n",
       "      <th></th>\n",
       "      <th>student_id</th>\n",
       "      <th>year</th>\n",
       "      <th>map_term</th>\n",
       "      <th>subject</th>\n",
       "      <th>rit_score</th>\n",
       "      <th>percentile</th>\n",
       "      <th>quartile</th>\n",
       "      <th>typical_fall_to_spring_growth</th>\n",
       "    </tr>\n",
       "  </thead>\n",
       "  <tbody>\n",
       "    <tr>\n",
       "      <th>0</th>\n",
       "      <td>13898</td>\n",
       "      <td>2019</td>\n",
       "      <td>Fall</td>\n",
       "      <td>Reading</td>\n",
       "      <td>161</td>\n",
       "      <td>59</td>\n",
       "      <td>3</td>\n",
       "      <td>18</td>\n",
       "    </tr>\n",
       "    <tr>\n",
       "      <th>1</th>\n",
       "      <td>27795</td>\n",
       "      <td>2019</td>\n",
       "      <td>Fall</td>\n",
       "      <td>Reading</td>\n",
       "      <td>158</td>\n",
       "      <td>50</td>\n",
       "      <td>3</td>\n",
       "      <td>19</td>\n",
       "    </tr>\n",
       "    <tr>\n",
       "      <th>2</th>\n",
       "      <td>22938</td>\n",
       "      <td>2019</td>\n",
       "      <td>Fall</td>\n",
       "      <td>Reading</td>\n",
       "      <td>162</td>\n",
       "      <td>62</td>\n",
       "      <td>3</td>\n",
       "      <td>18</td>\n",
       "    </tr>\n",
       "    <tr>\n",
       "      <th>3</th>\n",
       "      <td>22431</td>\n",
       "      <td>2019</td>\n",
       "      <td>Fall</td>\n",
       "      <td>Reading</td>\n",
       "      <td>162</td>\n",
       "      <td>62</td>\n",
       "      <td>3</td>\n",
       "      <td>18</td>\n",
       "    </tr>\n",
       "    <tr>\n",
       "      <th>4</th>\n",
       "      <td>18048</td>\n",
       "      <td>2019</td>\n",
       "      <td>Fall</td>\n",
       "      <td>Reading</td>\n",
       "      <td>166</td>\n",
       "      <td>73</td>\n",
       "      <td>3</td>\n",
       "      <td>17</td>\n",
       "    </tr>\n",
       "  </tbody>\n",
       "</table>\n",
       "</div>"
      ],
      "text/plain": [
       "   student_id  year map_term  subject rit_score percentile quartile  \\\n",
       "0       13898  2019     Fall  Reading       161         59        3   \n",
       "1       27795  2019     Fall  Reading       158         50        3   \n",
       "2       22938  2019     Fall  Reading       162         62        3   \n",
       "3       22431  2019     Fall  Reading       162         62        3   \n",
       "4       18048  2019     Fall  Reading       166         73        3   \n",
       "\n",
       "  typical_fall_to_spring_growth  \n",
       "0                            18  \n",
       "1                            19  \n",
       "2                            18  \n",
       "3                            18  \n",
       "4                            17  "
      ]
     },
     "execution_count": 3,
     "metadata": {},
     "output_type": "execute_result"
    }
   ],
   "source": [
    "# Create MAP_Scores dataframe\n",
    "map_scores_df=pd.read_csv(\"Resources/MAP_Scores.csv\")\n",
    "map_scores_df.head()"
   ]
  },
  {
   "cell_type": "code",
   "execution_count": 4,
   "id": "40768d61",
   "metadata": {},
   "outputs": [
    {
     "data": {
      "text/html": [
       "<div>\n",
       "<style scoped>\n",
       "    .dataframe tbody tr th:only-of-type {\n",
       "        vertical-align: middle;\n",
       "    }\n",
       "\n",
       "    .dataframe tbody tr th {\n",
       "        vertical-align: top;\n",
       "    }\n",
       "\n",
       "    .dataframe thead th {\n",
       "        text-align: right;\n",
       "    }\n",
       "</style>\n",
       "<table border=\"1\" class=\"dataframe\">\n",
       "  <thead>\n",
       "    <tr style=\"text-align: right;\">\n",
       "      <th></th>\n",
       "      <th>student_id</th>\n",
       "      <th>program_name</th>\n",
       "    </tr>\n",
       "  </thead>\n",
       "  <tbody>\n",
       "    <tr>\n",
       "      <th>0</th>\n",
       "      <td>13898</td>\n",
       "      <td>SPED</td>\n",
       "    </tr>\n",
       "    <tr>\n",
       "      <th>1</th>\n",
       "      <td>27795</td>\n",
       "      <td>SPED</td>\n",
       "    </tr>\n",
       "    <tr>\n",
       "      <th>2</th>\n",
       "      <td>22938</td>\n",
       "      <td>.</td>\n",
       "    </tr>\n",
       "    <tr>\n",
       "      <th>3</th>\n",
       "      <td>22431</td>\n",
       "      <td>.</td>\n",
       "    </tr>\n",
       "    <tr>\n",
       "      <th>4</th>\n",
       "      <td>18048</td>\n",
       "      <td>.</td>\n",
       "    </tr>\n",
       "  </tbody>\n",
       "</table>\n",
       "</div>"
      ],
      "text/plain": [
       "   student_id program_name\n",
       "0       13898         SPED\n",
       "1       27795         SPED\n",
       "2       22938            .\n",
       "3       22431            .\n",
       "4       18048            ."
      ]
     },
     "execution_count": 4,
     "metadata": {},
     "output_type": "execute_result"
    }
   ],
   "source": [
    "# Create Special_Programs dataframe\n",
    "special_programs_df=pd.read_csv(\"Resources/Special_Programs.csv\")\n",
    "special_programs_df.head()"
   ]
  },
  {
   "cell_type": "code",
   "execution_count": 5,
   "id": "4c3cdee5",
   "metadata": {},
   "outputs": [
    {
     "data": {
      "text/html": [
       "<div>\n",
       "<style scoped>\n",
       "    .dataframe tbody tr th:only-of-type {\n",
       "        vertical-align: middle;\n",
       "    }\n",
       "\n",
       "    .dataframe tbody tr th {\n",
       "        vertical-align: top;\n",
       "    }\n",
       "\n",
       "    .dataframe thead th {\n",
       "        text-align: right;\n",
       "    }\n",
       "</style>\n",
       "<table border=\"1\" class=\"dataframe\">\n",
       "  <thead>\n",
       "    <tr style=\"text-align: right;\">\n",
       "      <th></th>\n",
       "      <th>student_id</th>\n",
       "      <th>school_name</th>\n",
       "      <th>grade_level_2019</th>\n",
       "      <th>year</th>\n",
       "      <th>map_term</th>\n",
       "      <th>subject</th>\n",
       "      <th>rit_score</th>\n",
       "      <th>percentile</th>\n",
       "      <th>quartile</th>\n",
       "      <th>typical_fall_to_spring_growth</th>\n",
       "    </tr>\n",
       "  </thead>\n",
       "  <tbody>\n",
       "    <tr>\n",
       "      <th>0</th>\n",
       "      <td>13898</td>\n",
       "      <td>School G</td>\n",
       "      <td>1</td>\n",
       "      <td>2019</td>\n",
       "      <td>Fall</td>\n",
       "      <td>Reading</td>\n",
       "      <td>161</td>\n",
       "      <td>59</td>\n",
       "      <td>3</td>\n",
       "      <td>18</td>\n",
       "    </tr>\n",
       "    <tr>\n",
       "      <th>1</th>\n",
       "      <td>13898</td>\n",
       "      <td>School G</td>\n",
       "      <td>1</td>\n",
       "      <td>2019</td>\n",
       "      <td>Fall</td>\n",
       "      <td>Math</td>\n",
       "      <td>166</td>\n",
       "      <td>69</td>\n",
       "      <td>3</td>\n",
       "      <td>20</td>\n",
       "    </tr>\n",
       "    <tr>\n",
       "      <th>2</th>\n",
       "      <td>13898</td>\n",
       "      <td>School G</td>\n",
       "      <td>1</td>\n",
       "      <td>2019</td>\n",
       "      <td>Spring</td>\n",
       "      <td>Reading</td>\n",
       "      <td>175</td>\n",
       "      <td>43</td>\n",
       "      <td>2</td>\n",
       "      <td>.</td>\n",
       "    </tr>\n",
       "    <tr>\n",
       "      <th>3</th>\n",
       "      <td>13898</td>\n",
       "      <td>School G</td>\n",
       "      <td>1</td>\n",
       "      <td>2019</td>\n",
       "      <td>Spring</td>\n",
       "      <td>Math</td>\n",
       "      <td>186</td>\n",
       "      <td>65</td>\n",
       "      <td>3</td>\n",
       "      <td>.</td>\n",
       "    </tr>\n",
       "    <tr>\n",
       "      <th>4</th>\n",
       "      <td>27795</td>\n",
       "      <td>School G</td>\n",
       "      <td>1</td>\n",
       "      <td>2019</td>\n",
       "      <td>Fall</td>\n",
       "      <td>Reading</td>\n",
       "      <td>158</td>\n",
       "      <td>50</td>\n",
       "      <td>3</td>\n",
       "      <td>19</td>\n",
       "    </tr>\n",
       "  </tbody>\n",
       "</table>\n",
       "</div>"
      ],
      "text/plain": [
       "   student_id school_name  grade_level_2019  year map_term  subject rit_score  \\\n",
       "0       13898    School G                 1  2019     Fall  Reading       161   \n",
       "1       13898    School G                 1  2019     Fall     Math       166   \n",
       "2       13898    School G                 1  2019   Spring  Reading       175   \n",
       "3       13898    School G                 1  2019   Spring     Math       186   \n",
       "4       27795    School G                 1  2019     Fall  Reading       158   \n",
       "\n",
       "  percentile quartile typical_fall_to_spring_growth  \n",
       "0         59        3                            18  \n",
       "1         69        3                            20  \n",
       "2         43        2                             .  \n",
       "3         65        3                             .  \n",
       "4         50        3                            19  "
      ]
     },
     "execution_count": 5,
     "metadata": {},
     "output_type": "execute_result"
    }
   ],
   "source": [
    "# Merge student_info and map_scores dataframes\n",
    "info_scores_df = pd.merge(student_info_df, map_scores_df,how=\"outer\", left_on='student_id', right_on='student_id')\n",
    "info_scores_df.head()"
   ]
  },
  {
   "cell_type": "code",
   "execution_count": 6,
   "id": "4ba37fb6",
   "metadata": {},
   "outputs": [
    {
     "data": {
      "text/html": [
       "<div>\n",
       "<style scoped>\n",
       "    .dataframe tbody tr th:only-of-type {\n",
       "        vertical-align: middle;\n",
       "    }\n",
       "\n",
       "    .dataframe tbody tr th {\n",
       "        vertical-align: top;\n",
       "    }\n",
       "\n",
       "    .dataframe thead th {\n",
       "        text-align: right;\n",
       "    }\n",
       "</style>\n",
       "<table border=\"1\" class=\"dataframe\">\n",
       "  <thead>\n",
       "    <tr style=\"text-align: right;\">\n",
       "      <th></th>\n",
       "      <th>student_id</th>\n",
       "      <th>school_name</th>\n",
       "      <th>grade_level_2019</th>\n",
       "      <th>year</th>\n",
       "      <th>map_term</th>\n",
       "      <th>subject</th>\n",
       "      <th>rit_score</th>\n",
       "      <th>percentile</th>\n",
       "      <th>quartile</th>\n",
       "      <th>typical_fall_to_spring_growth</th>\n",
       "      <th>program_name</th>\n",
       "    </tr>\n",
       "  </thead>\n",
       "  <tbody>\n",
       "    <tr>\n",
       "      <th>0</th>\n",
       "      <td>13898</td>\n",
       "      <td>School G</td>\n",
       "      <td>1</td>\n",
       "      <td>2019</td>\n",
       "      <td>Fall</td>\n",
       "      <td>Reading</td>\n",
       "      <td>161</td>\n",
       "      <td>59</td>\n",
       "      <td>3</td>\n",
       "      <td>18</td>\n",
       "      <td>SPED</td>\n",
       "    </tr>\n",
       "    <tr>\n",
       "      <th>1</th>\n",
       "      <td>13898</td>\n",
       "      <td>School G</td>\n",
       "      <td>1</td>\n",
       "      <td>2019</td>\n",
       "      <td>Fall</td>\n",
       "      <td>Math</td>\n",
       "      <td>166</td>\n",
       "      <td>69</td>\n",
       "      <td>3</td>\n",
       "      <td>20</td>\n",
       "      <td>SPED</td>\n",
       "    </tr>\n",
       "    <tr>\n",
       "      <th>2</th>\n",
       "      <td>13898</td>\n",
       "      <td>School G</td>\n",
       "      <td>1</td>\n",
       "      <td>2019</td>\n",
       "      <td>Spring</td>\n",
       "      <td>Reading</td>\n",
       "      <td>175</td>\n",
       "      <td>43</td>\n",
       "      <td>2</td>\n",
       "      <td>.</td>\n",
       "      <td>SPED</td>\n",
       "    </tr>\n",
       "    <tr>\n",
       "      <th>3</th>\n",
       "      <td>13898</td>\n",
       "      <td>School G</td>\n",
       "      <td>1</td>\n",
       "      <td>2019</td>\n",
       "      <td>Spring</td>\n",
       "      <td>Math</td>\n",
       "      <td>186</td>\n",
       "      <td>65</td>\n",
       "      <td>3</td>\n",
       "      <td>.</td>\n",
       "      <td>SPED</td>\n",
       "    </tr>\n",
       "    <tr>\n",
       "      <th>4</th>\n",
       "      <td>27795</td>\n",
       "      <td>School G</td>\n",
       "      <td>1</td>\n",
       "      <td>2019</td>\n",
       "      <td>Fall</td>\n",
       "      <td>Reading</td>\n",
       "      <td>158</td>\n",
       "      <td>50</td>\n",
       "      <td>3</td>\n",
       "      <td>19</td>\n",
       "      <td>SPED</td>\n",
       "    </tr>\n",
       "  </tbody>\n",
       "</table>\n",
       "</div>"
      ],
      "text/plain": [
       "   student_id school_name  grade_level_2019  year map_term  subject rit_score  \\\n",
       "0       13898    School G                 1  2019     Fall  Reading       161   \n",
       "1       13898    School G                 1  2019     Fall     Math       166   \n",
       "2       13898    School G                 1  2019   Spring  Reading       175   \n",
       "3       13898    School G                 1  2019   Spring     Math       186   \n",
       "4       27795    School G                 1  2019     Fall  Reading       158   \n",
       "\n",
       "  percentile quartile typical_fall_to_spring_growth program_name  \n",
       "0         59        3                            18         SPED  \n",
       "1         69        3                            20         SPED  \n",
       "2         43        2                             .         SPED  \n",
       "3         65        3                             .         SPED  \n",
       "4         50        3                            19         SPED  "
      ]
     },
     "execution_count": 6,
     "metadata": {},
     "output_type": "execute_result"
    }
   ],
   "source": [
    "# Merge info_scores_df and special_programs dataframes\n",
    "kipp_maps_df = pd.merge(info_scores_df, special_programs_df,how=\"outer\", left_on='student_id', right_on='student_id')\n",
    "kipp_maps_df.head()"
   ]
  },
  {
   "cell_type": "markdown",
   "id": "c5dc2a5c",
   "metadata": {},
   "source": [
    "## Basic Data Cleaning"
   ]
  },
  {
   "cell_type": "code",
   "execution_count": 7,
   "id": "f569ee91",
   "metadata": {},
   "outputs": [
    {
     "data": {
      "text/plain": [
       "array(['School G', 'School E', 'School F', 'School B', 'School C',\n",
       "       'School D', 'School A'], dtype=object)"
      ]
     },
     "execution_count": 7,
     "metadata": {},
     "output_type": "execute_result"
    }
   ],
   "source": [
    "# Find unique values for school name\n",
    "kipp_maps_df.school_name.unique()"
   ]
  },
  {
   "cell_type": "code",
   "execution_count": 8,
   "id": "a260708c",
   "metadata": {},
   "outputs": [
    {
     "data": {
      "text/plain": [
       "array([1, 2, 3, 4, 5, 6, 7, 8, 0], dtype=int64)"
      ]
     },
     "execution_count": 8,
     "metadata": {},
     "output_type": "execute_result"
    }
   ],
   "source": [
    "# Find unique values for grade level\n",
    "kipp_maps_df.grade_level_2019.unique()\n",
    "\n",
    "#QUESTION: Is 0 kindergarten or an unknown grade? "
   ]
  },
  {
   "cell_type": "code",
   "execution_count": 9,
   "id": "000f2fd9",
   "metadata": {},
   "outputs": [
    {
     "data": {
      "text/plain": [
       "array([2019], dtype=int64)"
      ]
     },
     "execution_count": 9,
     "metadata": {},
     "output_type": "execute_result"
    }
   ],
   "source": [
    "# Find unique values for year\n",
    "kipp_maps_df.year.unique()"
   ]
  },
  {
   "cell_type": "code",
   "execution_count": 10,
   "id": "e6eba391",
   "metadata": {},
   "outputs": [
    {
     "data": {
      "text/plain": [
       "array(['Fall', 'Spring'], dtype=object)"
      ]
     },
     "execution_count": 10,
     "metadata": {},
     "output_type": "execute_result"
    }
   ],
   "source": [
    "# Find unique values for map_term\n",
    "kipp_maps_df.map_term.unique()"
   ]
  },
  {
   "cell_type": "code",
   "execution_count": 11,
   "id": "f9a158df",
   "metadata": {},
   "outputs": [
    {
     "data": {
      "text/plain": [
       "array(['Reading', 'Math', 'Read'], dtype=object)"
      ]
     },
     "execution_count": 11,
     "metadata": {},
     "output_type": "execute_result"
    }
   ],
   "source": [
    "# Find unique values for subject\n",
    "kipp_maps_df.subject.unique()"
   ]
  },
  {
   "cell_type": "code",
   "execution_count": 12,
   "id": "06828b08",
   "metadata": {},
   "outputs": [
    {
     "data": {
      "text/plain": [
       "Math       5562\n",
       "Reading    5454\n",
       "Read        106\n",
       "Name: subject, dtype: int64"
      ]
     },
     "execution_count": 12,
     "metadata": {},
     "output_type": "execute_result"
    }
   ],
   "source": [
    "# Identifying how many 'Read' values exist\n",
    "kipp_maps_df['subject'].value_counts()"
   ]
  },
  {
   "cell_type": "code",
   "execution_count": 13,
   "id": "e9af9338",
   "metadata": {},
   "outputs": [],
   "source": [
    "# Replace 'Read' in the subject column with 'Reading'\n",
    "kipp_maps_df.replace(\"Read\", \"Reading\", inplace=True)"
   ]
  },
  {
   "cell_type": "code",
   "execution_count": 14,
   "id": "c87836e5",
   "metadata": {},
   "outputs": [
    {
     "data": {
      "text/plain": [
       "Math       5562\n",
       "Reading    5560\n",
       "Name: subject, dtype: int64"
      ]
     },
     "execution_count": 14,
     "metadata": {},
     "output_type": "execute_result"
    }
   ],
   "source": [
    "# Ensuring all 'Read' values have been changed to 'Reading'\n",
    "kipp_maps_df['subject'].value_counts()"
   ]
  },
  {
   "cell_type": "code",
   "execution_count": 15,
   "id": "691aaf9d",
   "metadata": {},
   "outputs": [
    {
     "data": {
      "text/plain": [
       "array(['SPED', '.', 'LEP', 'Tier 2', 'Gifted', nan, '504', 'SPED '],\n",
       "      dtype=object)"
      ]
     },
     "execution_count": 15,
     "metadata": {},
     "output_type": "execute_result"
    }
   ],
   "source": [
    "# Find unique values for program_name\n",
    "kipp_maps_df.program_name.unique()"
   ]
  },
  {
   "cell_type": "code",
   "execution_count": 16,
   "id": "f1dc5fc7",
   "metadata": {},
   "outputs": [],
   "source": [
    "# Fill nan for program_name with 'GenEd'\n",
    "kipp_maps_df['program_name'] = kipp_maps_df['program_name'].fillna('GenEd')\n",
    "\n",
    "# QUESTION: Is 'nan' a student with no special program? "
   ]
  },
  {
   "cell_type": "code",
   "execution_count": 17,
   "id": "89869d1a",
   "metadata": {},
   "outputs": [
    {
     "data": {
      "text/plain": [
       "array(['SPED', '.', 'LEP', 'Tier 2', 'Gifted', 'GenEd', '504', 'SPED '],\n",
       "      dtype=object)"
      ]
     },
     "execution_count": 17,
     "metadata": {},
     "output_type": "execute_result"
    }
   ],
   "source": [
    "# Find unique values for program_name\n",
    "kipp_maps_df.program_name.unique()"
   ]
  },
  {
   "cell_type": "code",
   "execution_count": 18,
   "id": "cc1d2589",
   "metadata": {},
   "outputs": [],
   "source": [
    "# Replace '.' in the program_name column with 'GenEd'\n",
    "kipp_maps_df['program_name'].replace(\".\", \"GenEd\", inplace=True)"
   ]
  },
  {
   "cell_type": "code",
   "execution_count": 19,
   "id": "7565bb06",
   "metadata": {},
   "outputs": [
    {
     "data": {
      "text/plain": [
       "array(['SPED', 'GenEd', 'LEP', 'Tier 2', 'Gifted', '504', 'SPED '],\n",
       "      dtype=object)"
      ]
     },
     "execution_count": 19,
     "metadata": {},
     "output_type": "execute_result"
    }
   ],
   "source": [
    "# Find unique values for program_name\n",
    "kipp_maps_df.program_name.unique()"
   ]
  },
  {
   "cell_type": "code",
   "execution_count": 20,
   "id": "ae6ae652",
   "metadata": {},
   "outputs": [
    {
     "data": {
      "text/html": [
       "<div>\n",
       "<style scoped>\n",
       "    .dataframe tbody tr th:only-of-type {\n",
       "        vertical-align: middle;\n",
       "    }\n",
       "\n",
       "    .dataframe tbody tr th {\n",
       "        vertical-align: top;\n",
       "    }\n",
       "\n",
       "    .dataframe thead th {\n",
       "        text-align: right;\n",
       "    }\n",
       "</style>\n",
       "<table border=\"1\" class=\"dataframe\">\n",
       "  <thead>\n",
       "    <tr style=\"text-align: right;\">\n",
       "      <th></th>\n",
       "      <th>student_id</th>\n",
       "      <th>school_name</th>\n",
       "      <th>grade_level_2019</th>\n",
       "      <th>year</th>\n",
       "      <th>program_name</th>\n",
       "      <th>map_term</th>\n",
       "      <th>subject</th>\n",
       "      <th>rit_score</th>\n",
       "      <th>percentile</th>\n",
       "      <th>quartile</th>\n",
       "      <th>typical_fall_to_spring_growth</th>\n",
       "    </tr>\n",
       "  </thead>\n",
       "  <tbody>\n",
       "    <tr>\n",
       "      <th>3172</th>\n",
       "      <td>16945</td>\n",
       "      <td>School F</td>\n",
       "      <td>3</td>\n",
       "      <td>2019</td>\n",
       "      <td>GenEd</td>\n",
       "      <td>Fall</td>\n",
       "      <td>Reading</td>\n",
       "      <td>182</td>\n",
       "      <td>33</td>\n",
       "      <td>2</td>\n",
       "      <td>12</td>\n",
       "    </tr>\n",
       "    <tr>\n",
       "      <th>694</th>\n",
       "      <td>28467</td>\n",
       "      <td>School F</td>\n",
       "      <td>1</td>\n",
       "      <td>2019</td>\n",
       "      <td>GenEd</td>\n",
       "      <td>Spring</td>\n",
       "      <td>Reading</td>\n",
       "      <td>181</td>\n",
       "      <td>60</td>\n",
       "      <td>3</td>\n",
       "      <td>.</td>\n",
       "    </tr>\n",
       "    <tr>\n",
       "      <th>5479</th>\n",
       "      <td>15781</td>\n",
       "      <td>School B</td>\n",
       "      <td>6</td>\n",
       "      <td>2019</td>\n",
       "      <td>GenEd</td>\n",
       "      <td>Spring</td>\n",
       "      <td>Math</td>\n",
       "      <td>215</td>\n",
       "      <td>27</td>\n",
       "      <td>2</td>\n",
       "      <td>.</td>\n",
       "    </tr>\n",
       "    <tr>\n",
       "      <th>688</th>\n",
       "      <td>12892</td>\n",
       "      <td>School F</td>\n",
       "      <td>1</td>\n",
       "      <td>2019</td>\n",
       "      <td>GenEd</td>\n",
       "      <td>Fall</td>\n",
       "      <td>Reading</td>\n",
       "      <td>151</td>\n",
       "      <td>29</td>\n",
       "      <td>2</td>\n",
       "      <td>20</td>\n",
       "    </tr>\n",
       "    <tr>\n",
       "      <th>5360</th>\n",
       "      <td>23934</td>\n",
       "      <td>School B</td>\n",
       "      <td>6</td>\n",
       "      <td>2019</td>\n",
       "      <td>LEP</td>\n",
       "      <td>Fall</td>\n",
       "      <td>Reading</td>\n",
       "      <td>.</td>\n",
       "      <td>.</td>\n",
       "      <td>.</td>\n",
       "      <td>.</td>\n",
       "    </tr>\n",
       "    <tr>\n",
       "      <th>2996</th>\n",
       "      <td>22035</td>\n",
       "      <td>School F</td>\n",
       "      <td>3</td>\n",
       "      <td>2019</td>\n",
       "      <td>GenEd</td>\n",
       "      <td>Fall</td>\n",
       "      <td>Reading</td>\n",
       "      <td>205</td>\n",
       "      <td>86</td>\n",
       "      <td>4</td>\n",
       "      <td>8</td>\n",
       "    </tr>\n",
       "    <tr>\n",
       "      <th>8459</th>\n",
       "      <td>11529</td>\n",
       "      <td>School A</td>\n",
       "      <td>8</td>\n",
       "      <td>2019</td>\n",
       "      <td>Gifted</td>\n",
       "      <td>Fall</td>\n",
       "      <td>Math</td>\n",
       "      <td>250</td>\n",
       "      <td>89</td>\n",
       "      <td>4</td>\n",
       "      <td>3</td>\n",
       "    </tr>\n",
       "    <tr>\n",
       "      <th>4156</th>\n",
       "      <td>22989</td>\n",
       "      <td>School B</td>\n",
       "      <td>5</td>\n",
       "      <td>2019</td>\n",
       "      <td>Gifted</td>\n",
       "      <td>Fall</td>\n",
       "      <td>Reading</td>\n",
       "      <td>219</td>\n",
       "      <td>81</td>\n",
       "      <td>4</td>\n",
       "      <td>4</td>\n",
       "    </tr>\n",
       "    <tr>\n",
       "      <th>4302</th>\n",
       "      <td>20777</td>\n",
       "      <td>School C</td>\n",
       "      <td>5</td>\n",
       "      <td>2019</td>\n",
       "      <td>GenEd</td>\n",
       "      <td>Spring</td>\n",
       "      <td>Reading</td>\n",
       "      <td>212</td>\n",
       "      <td>51</td>\n",
       "      <td>3</td>\n",
       "      <td>.</td>\n",
       "    </tr>\n",
       "    <tr>\n",
       "      <th>9717</th>\n",
       "      <td>22796</td>\n",
       "      <td>School D</td>\n",
       "      <td>8</td>\n",
       "      <td>2019</td>\n",
       "      <td>Gifted</td>\n",
       "      <td>Fall</td>\n",
       "      <td>Math</td>\n",
       "      <td>252</td>\n",
       "      <td>91</td>\n",
       "      <td>4</td>\n",
       "      <td>3</td>\n",
       "    </tr>\n",
       "    <tr>\n",
       "      <th>4389</th>\n",
       "      <td>27321</td>\n",
       "      <td>School C</td>\n",
       "      <td>5</td>\n",
       "      <td>2019</td>\n",
       "      <td>GenEd</td>\n",
       "      <td>Fall</td>\n",
       "      <td>Math</td>\n",
       "      <td>206</td>\n",
       "      <td>36</td>\n",
       "      <td>2</td>\n",
       "      <td>10</td>\n",
       "    </tr>\n",
       "    <tr>\n",
       "      <th>4164</th>\n",
       "      <td>16659</td>\n",
       "      <td>School B</td>\n",
       "      <td>5</td>\n",
       "      <td>2019</td>\n",
       "      <td>GenEd</td>\n",
       "      <td>Fall</td>\n",
       "      <td>Reading</td>\n",
       "      <td>191</td>\n",
       "      <td>17</td>\n",
       "      <td>1</td>\n",
       "      <td>8</td>\n",
       "    </tr>\n",
       "    <tr>\n",
       "      <th>4295</th>\n",
       "      <td>19909</td>\n",
       "      <td>School A</td>\n",
       "      <td>5</td>\n",
       "      <td>2019</td>\n",
       "      <td>GenEd</td>\n",
       "      <td>Spring</td>\n",
       "      <td>Math</td>\n",
       "      <td>219</td>\n",
       "      <td>44</td>\n",
       "      <td>2</td>\n",
       "      <td>.</td>\n",
       "    </tr>\n",
       "    <tr>\n",
       "      <th>2072</th>\n",
       "      <td>18953</td>\n",
       "      <td>School G</td>\n",
       "      <td>2</td>\n",
       "      <td>2019</td>\n",
       "      <td>GenEd</td>\n",
       "      <td>Fall</td>\n",
       "      <td>Reading</td>\n",
       "      <td>187</td>\n",
       "      <td>74</td>\n",
       "      <td>3</td>\n",
       "      <td>9</td>\n",
       "    </tr>\n",
       "    <tr>\n",
       "      <th>386</th>\n",
       "      <td>19555</td>\n",
       "      <td>School G</td>\n",
       "      <td>1</td>\n",
       "      <td>2019</td>\n",
       "      <td>GenEd</td>\n",
       "      <td>Spring</td>\n",
       "      <td>Reading</td>\n",
       "      <td>185</td>\n",
       "      <td>70</td>\n",
       "      <td>3</td>\n",
       "      <td>.</td>\n",
       "    </tr>\n",
       "  </tbody>\n",
       "</table>\n",
       "</div>"
      ],
      "text/plain": [
       "      student_id school_name  grade_level_2019  year program_name map_term  \\\n",
       "3172       16945    School F                 3  2019        GenEd     Fall   \n",
       "694        28467    School F                 1  2019        GenEd   Spring   \n",
       "5479       15781    School B                 6  2019        GenEd   Spring   \n",
       "688        12892    School F                 1  2019        GenEd     Fall   \n",
       "5360       23934    School B                 6  2019          LEP     Fall   \n",
       "2996       22035    School F                 3  2019        GenEd     Fall   \n",
       "8459       11529    School A                 8  2019       Gifted     Fall   \n",
       "4156       22989    School B                 5  2019       Gifted     Fall   \n",
       "4302       20777    School C                 5  2019        GenEd   Spring   \n",
       "9717       22796    School D                 8  2019       Gifted     Fall   \n",
       "4389       27321    School C                 5  2019        GenEd     Fall   \n",
       "4164       16659    School B                 5  2019        GenEd     Fall   \n",
       "4295       19909    School A                 5  2019        GenEd   Spring   \n",
       "2072       18953    School G                 2  2019        GenEd     Fall   \n",
       "386        19555    School G                 1  2019        GenEd   Spring   \n",
       "\n",
       "      subject rit_score percentile quartile typical_fall_to_spring_growth  \n",
       "3172  Reading       182         33        2                            12  \n",
       "694   Reading       181         60        3                             .  \n",
       "5479     Math       215         27        2                             .  \n",
       "688   Reading       151         29        2                            20  \n",
       "5360  Reading         .          .        .                             .  \n",
       "2996  Reading       205         86        4                             8  \n",
       "8459     Math       250         89        4                             3  \n",
       "4156  Reading       219         81        4                             4  \n",
       "4302  Reading       212         51        3                             .  \n",
       "9717     Math       252         91        4                             3  \n",
       "4389     Math       206         36        2                            10  \n",
       "4164  Reading       191         17        1                             8  \n",
       "4295     Math       219         44        2                             .  \n",
       "2072  Reading       187         74        3                             9  \n",
       "386   Reading       185         70        3                             .  "
      ]
     },
     "execution_count": 20,
     "metadata": {},
     "output_type": "execute_result"
    }
   ],
   "source": [
    "# Reordering columns and showing a sample to ensure dataframe is functional/code is working\n",
    "kipp_maps_df = kipp_maps_df[['student_id', 'school_name', 'grade_level_2019', 'year', 'program_name', 'map_term', \n",
    "                             'subject', 'rit_score', 'percentile', 'quartile', \n",
    "                            'typical_fall_to_spring_growth']]\n",
    "kipp_maps_df.sample(15)"
   ]
  },
  {
   "cell_type": "code",
   "execution_count": 21,
   "id": "170e5160",
   "metadata": {},
   "outputs": [],
   "source": [
    "# Exporting the dataframe to a CSV\n",
    "filepath = Path('Resources/kipp_maps.csv')  \n",
    "filepath.parent.mkdir(parents=True, exist_ok=True)  \n",
    "kipp_maps_df.to_csv(filepath, index = False)  "
   ]
  },
  {
   "cell_type": "markdown",
   "id": "8f63cb55",
   "metadata": {},
   "source": [
    "## Finding and Exporting Unique student_ids"
   ]
  },
  {
   "cell_type": "code",
   "execution_count": 22,
   "id": "2af701ea",
   "metadata": {},
   "outputs": [
    {
     "data": {
      "text/plain": [
       "2787"
      ]
     },
     "execution_count": 22,
     "metadata": {},
     "output_type": "execute_result"
    }
   ],
   "source": [
    "# Finding the number of unique student ids\n",
    "kipp_maps_df.student_id.nunique()"
   ]
  },
  {
   "cell_type": "code",
   "execution_count": 23,
   "id": "bb3f217b",
   "metadata": {},
   "outputs": [],
   "source": [
    "# Creating an array of unique student ids\n",
    "student_id_array = kipp_maps_df.student_id.unique()"
   ]
  },
  {
   "cell_type": "code",
   "execution_count": 24,
   "id": "97c801aa",
   "metadata": {},
   "outputs": [
    {
     "name": "stdout",
     "output_type": "stream",
     "text": [
      "      student_id\n",
      "0          13898\n",
      "1          27795\n",
      "2          22938\n",
      "3          22431\n",
      "4          18048\n",
      "...          ...\n",
      "2782       28744\n",
      "2783       12169\n",
      "2784       24197\n",
      "2785       27656\n",
      "2786       29777\n",
      "\n",
      "[2787 rows x 1 columns]\n"
     ]
    }
   ],
   "source": [
    "# Converting the array into a dataframe\n",
    "student_id_df = pd.DataFrame(student_id_array, columns = ['student_id'])\n",
    "print(student_id_df)"
   ]
  },
  {
   "cell_type": "code",
   "execution_count": 25,
   "id": "2ca18cbc",
   "metadata": {},
   "outputs": [],
   "source": [
    "# Exporting unique student ids dataframe to a csv file\n",
    "student_id_df.to_csv('Resources/unique_student_ids.csv', index=False)"
   ]
  },
  {
   "cell_type": "markdown",
   "id": "447fae4c",
   "metadata": {},
   "source": [
    "## Understanding Null Values"
   ]
  },
  {
   "cell_type": "code",
   "execution_count": 26,
   "id": "ffc863ca",
   "metadata": {},
   "outputs": [
    {
     "data": {
      "text/html": [
       "<div>\n",
       "<style scoped>\n",
       "    .dataframe tbody tr th:only-of-type {\n",
       "        vertical-align: middle;\n",
       "    }\n",
       "\n",
       "    .dataframe tbody tr th {\n",
       "        vertical-align: top;\n",
       "    }\n",
       "\n",
       "    .dataframe thead th {\n",
       "        text-align: right;\n",
       "    }\n",
       "</style>\n",
       "<table border=\"1\" class=\"dataframe\">\n",
       "  <thead>\n",
       "    <tr style=\"text-align: right;\">\n",
       "      <th></th>\n",
       "      <th>student_id</th>\n",
       "      <th>school_name</th>\n",
       "      <th>grade_level_2019</th>\n",
       "      <th>year</th>\n",
       "      <th>program_name</th>\n",
       "      <th>fall_math_rit_score</th>\n",
       "      <th>fall_math_percentile</th>\n",
       "      <th>fall_math_quartile</th>\n",
       "      <th>spring_math_rit_score</th>\n",
       "      <th>spring_math_percentile</th>\n",
       "      <th>...</th>\n",
       "      <th>math_growth_difference</th>\n",
       "      <th>fall_reading_rit_score</th>\n",
       "      <th>fall_reading_percentile</th>\n",
       "      <th>fall_reading_quartile</th>\n",
       "      <th>spring_reading_rit_score</th>\n",
       "      <th>spring_reading_percentile</th>\n",
       "      <th>spring_reading_quartile</th>\n",
       "      <th>typical_reading_fall_to_spring_growth</th>\n",
       "      <th>actual_reading_fall_to_spring_growth</th>\n",
       "      <th>reading_growth_difference</th>\n",
       "    </tr>\n",
       "  </thead>\n",
       "  <tbody>\n",
       "    <tr>\n",
       "      <th>0</th>\n",
       "      <td>13898</td>\n",
       "      <td>School G</td>\n",
       "      <td>1</td>\n",
       "      <td>2019</td>\n",
       "      <td>SPED</td>\n",
       "      <td>166</td>\n",
       "      <td>69</td>\n",
       "      <td>3</td>\n",
       "      <td>186</td>\n",
       "      <td>65</td>\n",
       "      <td>...</td>\n",
       "      <td>0</td>\n",
       "      <td>161</td>\n",
       "      <td>59</td>\n",
       "      <td>3</td>\n",
       "      <td>175</td>\n",
       "      <td>43</td>\n",
       "      <td>2</td>\n",
       "      <td>18</td>\n",
       "      <td>14</td>\n",
       "      <td>-4</td>\n",
       "    </tr>\n",
       "    <tr>\n",
       "      <th>1</th>\n",
       "      <td>27795</td>\n",
       "      <td>School G</td>\n",
       "      <td>1</td>\n",
       "      <td>2019</td>\n",
       "      <td>SPED</td>\n",
       "      <td>135</td>\n",
       "      <td>4</td>\n",
       "      <td>1</td>\n",
       "      <td>182</td>\n",
       "      <td>53</td>\n",
       "      <td>...</td>\n",
       "      <td>20</td>\n",
       "      <td>158</td>\n",
       "      <td>50</td>\n",
       "      <td>3</td>\n",
       "      <td>174</td>\n",
       "      <td>40</td>\n",
       "      <td>2</td>\n",
       "      <td>19</td>\n",
       "      <td>16</td>\n",
       "      <td>-3</td>\n",
       "    </tr>\n",
       "    <tr>\n",
       "      <th>2</th>\n",
       "      <td>22938</td>\n",
       "      <td>School E</td>\n",
       "      <td>1</td>\n",
       "      <td>2019</td>\n",
       "      <td>GenEd</td>\n",
       "      <td>160</td>\n",
       "      <td>52</td>\n",
       "      <td>3</td>\n",
       "      <td>180</td>\n",
       "      <td>48</td>\n",
       "      <td>...</td>\n",
       "      <td>-1</td>\n",
       "      <td>162</td>\n",
       "      <td>62</td>\n",
       "      <td>3</td>\n",
       "      <td>178</td>\n",
       "      <td>51</td>\n",
       "      <td>3</td>\n",
       "      <td>18</td>\n",
       "      <td>16</td>\n",
       "      <td>-2</td>\n",
       "    </tr>\n",
       "    <tr>\n",
       "      <th>3</th>\n",
       "      <td>22431</td>\n",
       "      <td>School F</td>\n",
       "      <td>1</td>\n",
       "      <td>2019</td>\n",
       "      <td>GenEd</td>\n",
       "      <td>164</td>\n",
       "      <td>64</td>\n",
       "      <td>3</td>\n",
       "      <td>180</td>\n",
       "      <td>48</td>\n",
       "      <td>...</td>\n",
       "      <td>-4</td>\n",
       "      <td>162</td>\n",
       "      <td>62</td>\n",
       "      <td>3</td>\n",
       "      <td>174</td>\n",
       "      <td>40</td>\n",
       "      <td>2</td>\n",
       "      <td>18</td>\n",
       "      <td>12</td>\n",
       "      <td>-6</td>\n",
       "    </tr>\n",
       "    <tr>\n",
       "      <th>4</th>\n",
       "      <td>18048</td>\n",
       "      <td>School E</td>\n",
       "      <td>1</td>\n",
       "      <td>2019</td>\n",
       "      <td>GenEd</td>\n",
       "      <td>151</td>\n",
       "      <td>28</td>\n",
       "      <td>2</td>\n",
       "      <td>163</td>\n",
       "      <td>10</td>\n",
       "      <td>...</td>\n",
       "      <td>-11</td>\n",
       "      <td>166</td>\n",
       "      <td>73</td>\n",
       "      <td>3</td>\n",
       "      <td>181</td>\n",
       "      <td>59</td>\n",
       "      <td>3</td>\n",
       "      <td>17</td>\n",
       "      <td>15</td>\n",
       "      <td>-2</td>\n",
       "    </tr>\n",
       "  </tbody>\n",
       "</table>\n",
       "<p>5 rows × 23 columns</p>\n",
       "</div>"
      ],
      "text/plain": [
       "   student_id school_name  grade_level_2019  year program_name  \\\n",
       "0       13898    School G                 1  2019         SPED   \n",
       "1       27795    School G                 1  2019         SPED   \n",
       "2       22938    School E                 1  2019        GenEd   \n",
       "3       22431    School F                 1  2019        GenEd   \n",
       "4       18048    School E                 1  2019        GenEd   \n",
       "\n",
       "  fall_math_rit_score fall_math_percentile fall_math_quartile  \\\n",
       "0                 166                   69                  3   \n",
       "1                 135                    4                  1   \n",
       "2                 160                   52                  3   \n",
       "3                 164                   64                  3   \n",
       "4                 151                   28                  2   \n",
       "\n",
       "  spring_math_rit_score spring_math_percentile  ... math_growth_difference  \\\n",
       "0                   186                     65  ...                      0   \n",
       "1                   182                     53  ...                     20   \n",
       "2                   180                     48  ...                     -1   \n",
       "3                   180                     48  ...                     -4   \n",
       "4                   163                     10  ...                    -11   \n",
       "\n",
       "  fall_reading_rit_score fall_reading_percentile fall_reading_quartile  \\\n",
       "0                    161                      59                     3   \n",
       "1                    158                      50                     3   \n",
       "2                    162                      62                     3   \n",
       "3                    162                      62                     3   \n",
       "4                    166                      73                     3   \n",
       "\n",
       "  spring_reading_rit_score spring_reading_percentile spring_reading_quartile  \\\n",
       "0                      175                        43                       2   \n",
       "1                      174                        40                       2   \n",
       "2                      178                        51                       3   \n",
       "3                      174                        40                       2   \n",
       "4                      181                        59                       3   \n",
       "\n",
       "  typical_reading_fall_to_spring_growth actual_reading_fall_to_spring_growth  \\\n",
       "0                                    18                                   14   \n",
       "1                                    19                                   16   \n",
       "2                                    18                                   16   \n",
       "3                                    18                                   12   \n",
       "4                                    17                                   15   \n",
       "\n",
       "  reading_growth_difference  \n",
       "0                        -4  \n",
       "1                        -3  \n",
       "2                        -2  \n",
       "3                        -6  \n",
       "4                        -2  \n",
       "\n",
       "[5 rows x 23 columns]"
      ]
     },
     "execution_count": 26,
     "metadata": {},
     "output_type": "execute_result"
    }
   ],
   "source": [
    "# Input updated csv into a dataframe\n",
    "kipp_maps_updated_df=pd.read_csv(\"Resources/kipp_maps_updated.csv\")\n",
    "kipp_maps_updated_df.head()"
   ]
  },
  {
   "cell_type": "code",
   "execution_count": 27,
   "id": "ff3cc0ff",
   "metadata": {},
   "outputs": [
    {
     "name": "stdout",
     "output_type": "stream",
     "text": [
      "252\n"
     ]
    }
   ],
   "source": [
    "# Finding the null values for fall math score\n",
    "print(kipp_maps_updated_df['fall_math_rit_score'].value_counts()['.'])"
   ]
  },
  {
   "cell_type": "code",
   "execution_count": 28,
   "id": "ec2a1102",
   "metadata": {},
   "outputs": [
    {
     "name": "stdout",
     "output_type": "stream",
     "text": [
      "257\n"
     ]
    }
   ],
   "source": [
    "# Finding the null values for spring math score\n",
    "print(kipp_maps_updated_df['spring_math_rit_score'].value_counts()['.'])"
   ]
  },
  {
   "cell_type": "code",
   "execution_count": 29,
   "id": "e3f584b3",
   "metadata": {},
   "outputs": [
    {
     "name": "stdout",
     "output_type": "stream",
     "text": [
      "235\n"
     ]
    }
   ],
   "source": [
    "# Finding the null values for fall reading score\n",
    "print(kipp_maps_updated_df['fall_reading_rit_score'].value_counts()['.'])"
   ]
  },
  {
   "cell_type": "code",
   "execution_count": 30,
   "id": "049e66b8",
   "metadata": {},
   "outputs": [
    {
     "name": "stdout",
     "output_type": "stream",
     "text": [
      "254\n"
     ]
    }
   ],
   "source": [
    "# Finding the null values for spring reading score\n",
    "print(kipp_maps_updated_df['spring_reading_rit_score'].value_counts()['.'])"
   ]
  },
  {
   "cell_type": "code",
   "execution_count": null,
   "id": "a0c54adc",
   "metadata": {},
   "outputs": [],
   "source": []
  }
 ],
 "metadata": {
  "kernelspec": {
   "display_name": "Python 3 (ipykernel)",
   "language": "python",
   "name": "python3"
  },
  "language_info": {
   "codemirror_mode": {
    "name": "ipython",
    "version": 3
   },
   "file_extension": ".py",
   "mimetype": "text/x-python",
   "name": "python",
   "nbconvert_exporter": "python",
   "pygments_lexer": "ipython3",
   "version": "3.7.13"
  }
 },
 "nbformat": 4,
 "nbformat_minor": 5
}
