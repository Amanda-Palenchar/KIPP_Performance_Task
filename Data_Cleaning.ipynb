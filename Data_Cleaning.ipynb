{
 "cells": [
  {
   "cell_type": "markdown",
   "id": "48943e15",
   "metadata": {},
   "source": [
    "## Import Data & Merge Dataframes"
   ]
  },
  {
   "cell_type": "code",
   "execution_count": 1,
   "id": "dd076bb6",
   "metadata": {},
   "outputs": [],
   "source": [
    "# Import dependencies\n",
    "import pandas as pd\n",
    "from pathlib import Path \n",
    "import numpy as np"
   ]
  },
  {
   "cell_type": "code",
   "execution_count": 2,
   "id": "4a1afeb2",
   "metadata": {},
   "outputs": [
    {
     "data": {
      "text/html": [
       "<div>\n",
       "<style scoped>\n",
       "    .dataframe tbody tr th:only-of-type {\n",
       "        vertical-align: middle;\n",
       "    }\n",
       "\n",
       "    .dataframe tbody tr th {\n",
       "        vertical-align: top;\n",
       "    }\n",
       "\n",
       "    .dataframe thead th {\n",
       "        text-align: right;\n",
       "    }\n",
       "</style>\n",
       "<table border=\"1\" class=\"dataframe\">\n",
       "  <thead>\n",
       "    <tr style=\"text-align: right;\">\n",
       "      <th></th>\n",
       "      <th>student_id</th>\n",
       "      <th>school_name</th>\n",
       "      <th>grade_level_2019</th>\n",
       "    </tr>\n",
       "  </thead>\n",
       "  <tbody>\n",
       "    <tr>\n",
       "      <th>0</th>\n",
       "      <td>13898</td>\n",
       "      <td>School G</td>\n",
       "      <td>1</td>\n",
       "    </tr>\n",
       "    <tr>\n",
       "      <th>1</th>\n",
       "      <td>27795</td>\n",
       "      <td>School G</td>\n",
       "      <td>1</td>\n",
       "    </tr>\n",
       "    <tr>\n",
       "      <th>2</th>\n",
       "      <td>22938</td>\n",
       "      <td>School E</td>\n",
       "      <td>1</td>\n",
       "    </tr>\n",
       "    <tr>\n",
       "      <th>3</th>\n",
       "      <td>22431</td>\n",
       "      <td>School F</td>\n",
       "      <td>1</td>\n",
       "    </tr>\n",
       "    <tr>\n",
       "      <th>4</th>\n",
       "      <td>18048</td>\n",
       "      <td>School E</td>\n",
       "      <td>1</td>\n",
       "    </tr>\n",
       "  </tbody>\n",
       "</table>\n",
       "</div>"
      ],
      "text/plain": [
       "   student_id school_name  grade_level_2019\n",
       "0       13898    School G                 1\n",
       "1       27795    School G                 1\n",
       "2       22938    School E                 1\n",
       "3       22431    School F                 1\n",
       "4       18048    School E                 1"
      ]
     },
     "execution_count": 2,
     "metadata": {},
     "output_type": "execute_result"
    }
   ],
   "source": [
    "# Create student info dataframe\n",
    "student_info_df=pd.read_csv(\"Resources/Student_Info.csv\")\n",
    "student_info_df.head()"
   ]
  },
  {
   "cell_type": "code",
   "execution_count": 3,
   "id": "bc1ff202",
   "metadata": {},
   "outputs": [
    {
     "data": {
      "text/html": [
       "<div>\n",
       "<style scoped>\n",
       "    .dataframe tbody tr th:only-of-type {\n",
       "        vertical-align: middle;\n",
       "    }\n",
       "\n",
       "    .dataframe tbody tr th {\n",
       "        vertical-align: top;\n",
       "    }\n",
       "\n",
       "    .dataframe thead th {\n",
       "        text-align: right;\n",
       "    }\n",
       "</style>\n",
       "<table border=\"1\" class=\"dataframe\">\n",
       "  <thead>\n",
       "    <tr style=\"text-align: right;\">\n",
       "      <th></th>\n",
       "      <th>student_id</th>\n",
       "      <th>year</th>\n",
       "      <th>map_term</th>\n",
       "      <th>subject</th>\n",
       "      <th>rit_score</th>\n",
       "      <th>percentile</th>\n",
       "      <th>quartile</th>\n",
       "      <th>typical_fall_to_spring_growth</th>\n",
       "    </tr>\n",
       "  </thead>\n",
       "  <tbody>\n",
       "    <tr>\n",
       "      <th>0</th>\n",
       "      <td>13898</td>\n",
       "      <td>2019</td>\n",
       "      <td>Fall</td>\n",
       "      <td>Reading</td>\n",
       "      <td>161</td>\n",
       "      <td>59</td>\n",
       "      <td>3</td>\n",
       "      <td>18</td>\n",
       "    </tr>\n",
       "    <tr>\n",
       "      <th>1</th>\n",
       "      <td>27795</td>\n",
       "      <td>2019</td>\n",
       "      <td>Fall</td>\n",
       "      <td>Reading</td>\n",
       "      <td>158</td>\n",
       "      <td>50</td>\n",
       "      <td>3</td>\n",
       "      <td>19</td>\n",
       "    </tr>\n",
       "    <tr>\n",
       "      <th>2</th>\n",
       "      <td>22938</td>\n",
       "      <td>2019</td>\n",
       "      <td>Fall</td>\n",
       "      <td>Reading</td>\n",
       "      <td>162</td>\n",
       "      <td>62</td>\n",
       "      <td>3</td>\n",
       "      <td>18</td>\n",
       "    </tr>\n",
       "    <tr>\n",
       "      <th>3</th>\n",
       "      <td>22431</td>\n",
       "      <td>2019</td>\n",
       "      <td>Fall</td>\n",
       "      <td>Reading</td>\n",
       "      <td>162</td>\n",
       "      <td>62</td>\n",
       "      <td>3</td>\n",
       "      <td>18</td>\n",
       "    </tr>\n",
       "    <tr>\n",
       "      <th>4</th>\n",
       "      <td>18048</td>\n",
       "      <td>2019</td>\n",
       "      <td>Fall</td>\n",
       "      <td>Reading</td>\n",
       "      <td>166</td>\n",
       "      <td>73</td>\n",
       "      <td>3</td>\n",
       "      <td>17</td>\n",
       "    </tr>\n",
       "  </tbody>\n",
       "</table>\n",
       "</div>"
      ],
      "text/plain": [
       "   student_id  year map_term  subject rit_score percentile quartile  \\\n",
       "0       13898  2019     Fall  Reading       161         59        3   \n",
       "1       27795  2019     Fall  Reading       158         50        3   \n",
       "2       22938  2019     Fall  Reading       162         62        3   \n",
       "3       22431  2019     Fall  Reading       162         62        3   \n",
       "4       18048  2019     Fall  Reading       166         73        3   \n",
       "\n",
       "  typical_fall_to_spring_growth  \n",
       "0                            18  \n",
       "1                            19  \n",
       "2                            18  \n",
       "3                            18  \n",
       "4                            17  "
      ]
     },
     "execution_count": 3,
     "metadata": {},
     "output_type": "execute_result"
    }
   ],
   "source": [
    "# Create MAP_Scores dataframe\n",
    "map_scores_df=pd.read_csv(\"Resources/MAP_Scores.csv\")\n",
    "map_scores_df.head()"
   ]
  },
  {
   "cell_type": "code",
   "execution_count": 4,
   "id": "4113adf7",
   "metadata": {},
   "outputs": [
    {
     "data": {
      "text/html": [
       "<div>\n",
       "<style scoped>\n",
       "    .dataframe tbody tr th:only-of-type {\n",
       "        vertical-align: middle;\n",
       "    }\n",
       "\n",
       "    .dataframe tbody tr th {\n",
       "        vertical-align: top;\n",
       "    }\n",
       "\n",
       "    .dataframe thead th {\n",
       "        text-align: right;\n",
       "    }\n",
       "</style>\n",
       "<table border=\"1\" class=\"dataframe\">\n",
       "  <thead>\n",
       "    <tr style=\"text-align: right;\">\n",
       "      <th></th>\n",
       "      <th>student_id</th>\n",
       "      <th>program_name</th>\n",
       "    </tr>\n",
       "  </thead>\n",
       "  <tbody>\n",
       "    <tr>\n",
       "      <th>0</th>\n",
       "      <td>13898</td>\n",
       "      <td>SPED</td>\n",
       "    </tr>\n",
       "    <tr>\n",
       "      <th>1</th>\n",
       "      <td>27795</td>\n",
       "      <td>SPED</td>\n",
       "    </tr>\n",
       "    <tr>\n",
       "      <th>2</th>\n",
       "      <td>22938</td>\n",
       "      <td>.</td>\n",
       "    </tr>\n",
       "    <tr>\n",
       "      <th>3</th>\n",
       "      <td>22431</td>\n",
       "      <td>.</td>\n",
       "    </tr>\n",
       "    <tr>\n",
       "      <th>4</th>\n",
       "      <td>18048</td>\n",
       "      <td>.</td>\n",
       "    </tr>\n",
       "  </tbody>\n",
       "</table>\n",
       "</div>"
      ],
      "text/plain": [
       "   student_id program_name\n",
       "0       13898         SPED\n",
       "1       27795         SPED\n",
       "2       22938            .\n",
       "3       22431            .\n",
       "4       18048            ."
      ]
     },
     "execution_count": 4,
     "metadata": {},
     "output_type": "execute_result"
    }
   ],
   "source": [
    "# Create Special_Programs dataframe\n",
    "special_programs_df=pd.read_csv(\"Resources/Special_Programs.csv\")\n",
    "special_programs_df.head()"
   ]
  },
  {
   "cell_type": "code",
   "execution_count": 5,
   "id": "e453ddff",
   "metadata": {},
   "outputs": [
    {
     "data": {
      "text/html": [
       "<div>\n",
       "<style scoped>\n",
       "    .dataframe tbody tr th:only-of-type {\n",
       "        vertical-align: middle;\n",
       "    }\n",
       "\n",
       "    .dataframe tbody tr th {\n",
       "        vertical-align: top;\n",
       "    }\n",
       "\n",
       "    .dataframe thead th {\n",
       "        text-align: right;\n",
       "    }\n",
       "</style>\n",
       "<table border=\"1\" class=\"dataframe\">\n",
       "  <thead>\n",
       "    <tr style=\"text-align: right;\">\n",
       "      <th></th>\n",
       "      <th>student_id</th>\n",
       "      <th>school_name</th>\n",
       "      <th>grade_level_2019</th>\n",
       "      <th>year</th>\n",
       "      <th>map_term</th>\n",
       "      <th>subject</th>\n",
       "      <th>rit_score</th>\n",
       "      <th>percentile</th>\n",
       "      <th>quartile</th>\n",
       "      <th>typical_fall_to_spring_growth</th>\n",
       "    </tr>\n",
       "  </thead>\n",
       "  <tbody>\n",
       "    <tr>\n",
       "      <th>0</th>\n",
       "      <td>13898</td>\n",
       "      <td>School G</td>\n",
       "      <td>1</td>\n",
       "      <td>2019</td>\n",
       "      <td>Fall</td>\n",
       "      <td>Reading</td>\n",
       "      <td>161</td>\n",
       "      <td>59</td>\n",
       "      <td>3</td>\n",
       "      <td>18</td>\n",
       "    </tr>\n",
       "    <tr>\n",
       "      <th>1</th>\n",
       "      <td>13898</td>\n",
       "      <td>School G</td>\n",
       "      <td>1</td>\n",
       "      <td>2019</td>\n",
       "      <td>Fall</td>\n",
       "      <td>Math</td>\n",
       "      <td>166</td>\n",
       "      <td>69</td>\n",
       "      <td>3</td>\n",
       "      <td>20</td>\n",
       "    </tr>\n",
       "    <tr>\n",
       "      <th>2</th>\n",
       "      <td>13898</td>\n",
       "      <td>School G</td>\n",
       "      <td>1</td>\n",
       "      <td>2019</td>\n",
       "      <td>Spring</td>\n",
       "      <td>Reading</td>\n",
       "      <td>175</td>\n",
       "      <td>43</td>\n",
       "      <td>2</td>\n",
       "      <td>.</td>\n",
       "    </tr>\n",
       "    <tr>\n",
       "      <th>3</th>\n",
       "      <td>13898</td>\n",
       "      <td>School G</td>\n",
       "      <td>1</td>\n",
       "      <td>2019</td>\n",
       "      <td>Spring</td>\n",
       "      <td>Math</td>\n",
       "      <td>186</td>\n",
       "      <td>65</td>\n",
       "      <td>3</td>\n",
       "      <td>.</td>\n",
       "    </tr>\n",
       "    <tr>\n",
       "      <th>4</th>\n",
       "      <td>27795</td>\n",
       "      <td>School G</td>\n",
       "      <td>1</td>\n",
       "      <td>2019</td>\n",
       "      <td>Fall</td>\n",
       "      <td>Reading</td>\n",
       "      <td>158</td>\n",
       "      <td>50</td>\n",
       "      <td>3</td>\n",
       "      <td>19</td>\n",
       "    </tr>\n",
       "  </tbody>\n",
       "</table>\n",
       "</div>"
      ],
      "text/plain": [
       "   student_id school_name  grade_level_2019  year map_term  subject rit_score  \\\n",
       "0       13898    School G                 1  2019     Fall  Reading       161   \n",
       "1       13898    School G                 1  2019     Fall     Math       166   \n",
       "2       13898    School G                 1  2019   Spring  Reading       175   \n",
       "3       13898    School G                 1  2019   Spring     Math       186   \n",
       "4       27795    School G                 1  2019     Fall  Reading       158   \n",
       "\n",
       "  percentile quartile typical_fall_to_spring_growth  \n",
       "0         59        3                            18  \n",
       "1         69        3                            20  \n",
       "2         43        2                             .  \n",
       "3         65        3                             .  \n",
       "4         50        3                            19  "
      ]
     },
     "execution_count": 5,
     "metadata": {},
     "output_type": "execute_result"
    }
   ],
   "source": [
    "# Merge student_info and map_scores dataframes\n",
    "info_scores_df = pd.merge(student_info_df, map_scores_df,how=\"outer\", left_on='student_id', right_on='student_id')\n",
    "info_scores_df.head()"
   ]
  },
  {
   "cell_type": "code",
   "execution_count": 6,
   "id": "03164d09",
   "metadata": {},
   "outputs": [
    {
     "data": {
      "text/html": [
       "<div>\n",
       "<style scoped>\n",
       "    .dataframe tbody tr th:only-of-type {\n",
       "        vertical-align: middle;\n",
       "    }\n",
       "\n",
       "    .dataframe tbody tr th {\n",
       "        vertical-align: top;\n",
       "    }\n",
       "\n",
       "    .dataframe thead th {\n",
       "        text-align: right;\n",
       "    }\n",
       "</style>\n",
       "<table border=\"1\" class=\"dataframe\">\n",
       "  <thead>\n",
       "    <tr style=\"text-align: right;\">\n",
       "      <th></th>\n",
       "      <th>student_id</th>\n",
       "      <th>school_name</th>\n",
       "      <th>grade_level_2019</th>\n",
       "      <th>year</th>\n",
       "      <th>map_term</th>\n",
       "      <th>subject</th>\n",
       "      <th>rit_score</th>\n",
       "      <th>percentile</th>\n",
       "      <th>quartile</th>\n",
       "      <th>typical_fall_to_spring_growth</th>\n",
       "      <th>program_name</th>\n",
       "    </tr>\n",
       "  </thead>\n",
       "  <tbody>\n",
       "    <tr>\n",
       "      <th>0</th>\n",
       "      <td>13898</td>\n",
       "      <td>School G</td>\n",
       "      <td>1</td>\n",
       "      <td>2019</td>\n",
       "      <td>Fall</td>\n",
       "      <td>Reading</td>\n",
       "      <td>161</td>\n",
       "      <td>59</td>\n",
       "      <td>3</td>\n",
       "      <td>18</td>\n",
       "      <td>SPED</td>\n",
       "    </tr>\n",
       "    <tr>\n",
       "      <th>1</th>\n",
       "      <td>13898</td>\n",
       "      <td>School G</td>\n",
       "      <td>1</td>\n",
       "      <td>2019</td>\n",
       "      <td>Fall</td>\n",
       "      <td>Math</td>\n",
       "      <td>166</td>\n",
       "      <td>69</td>\n",
       "      <td>3</td>\n",
       "      <td>20</td>\n",
       "      <td>SPED</td>\n",
       "    </tr>\n",
       "    <tr>\n",
       "      <th>2</th>\n",
       "      <td>13898</td>\n",
       "      <td>School G</td>\n",
       "      <td>1</td>\n",
       "      <td>2019</td>\n",
       "      <td>Spring</td>\n",
       "      <td>Reading</td>\n",
       "      <td>175</td>\n",
       "      <td>43</td>\n",
       "      <td>2</td>\n",
       "      <td>.</td>\n",
       "      <td>SPED</td>\n",
       "    </tr>\n",
       "    <tr>\n",
       "      <th>3</th>\n",
       "      <td>13898</td>\n",
       "      <td>School G</td>\n",
       "      <td>1</td>\n",
       "      <td>2019</td>\n",
       "      <td>Spring</td>\n",
       "      <td>Math</td>\n",
       "      <td>186</td>\n",
       "      <td>65</td>\n",
       "      <td>3</td>\n",
       "      <td>.</td>\n",
       "      <td>SPED</td>\n",
       "    </tr>\n",
       "    <tr>\n",
       "      <th>4</th>\n",
       "      <td>27795</td>\n",
       "      <td>School G</td>\n",
       "      <td>1</td>\n",
       "      <td>2019</td>\n",
       "      <td>Fall</td>\n",
       "      <td>Reading</td>\n",
       "      <td>158</td>\n",
       "      <td>50</td>\n",
       "      <td>3</td>\n",
       "      <td>19</td>\n",
       "      <td>SPED</td>\n",
       "    </tr>\n",
       "  </tbody>\n",
       "</table>\n",
       "</div>"
      ],
      "text/plain": [
       "   student_id school_name  grade_level_2019  year map_term  subject rit_score  \\\n",
       "0       13898    School G                 1  2019     Fall  Reading       161   \n",
       "1       13898    School G                 1  2019     Fall     Math       166   \n",
       "2       13898    School G                 1  2019   Spring  Reading       175   \n",
       "3       13898    School G                 1  2019   Spring     Math       186   \n",
       "4       27795    School G                 1  2019     Fall  Reading       158   \n",
       "\n",
       "  percentile quartile typical_fall_to_spring_growth program_name  \n",
       "0         59        3                            18         SPED  \n",
       "1         69        3                            20         SPED  \n",
       "2         43        2                             .         SPED  \n",
       "3         65        3                             .         SPED  \n",
       "4         50        3                            19         SPED  "
      ]
     },
     "execution_count": 6,
     "metadata": {},
     "output_type": "execute_result"
    }
   ],
   "source": [
    "# Merge info_scores_df and special_programs dataframes\n",
    "kipp_maps_df = pd.merge(info_scores_df, special_programs_df,how=\"outer\", left_on='student_id', right_on='student_id')\n",
    "kipp_maps_df.head()"
   ]
  },
  {
   "cell_type": "markdown",
   "id": "cea96438",
   "metadata": {},
   "source": [
    "## Basic Data Cleaning"
   ]
  },
  {
   "cell_type": "code",
   "execution_count": 7,
   "id": "66e6c01f",
   "metadata": {},
   "outputs": [
    {
     "data": {
      "text/plain": [
       "array(['School G', 'School E', 'School F', 'School B', 'School C',\n",
       "       'School D', 'School A'], dtype=object)"
      ]
     },
     "execution_count": 7,
     "metadata": {},
     "output_type": "execute_result"
    }
   ],
   "source": [
    "# Find unique values for school name\n",
    "kipp_maps_df.school_name.unique()"
   ]
  },
  {
   "cell_type": "code",
   "execution_count": 8,
   "id": "e1937e9e",
   "metadata": {},
   "outputs": [
    {
     "data": {
      "text/plain": [
       "array([1, 2, 3, 4, 5, 6, 7, 8, 0], dtype=int64)"
      ]
     },
     "execution_count": 8,
     "metadata": {},
     "output_type": "execute_result"
    }
   ],
   "source": [
    "# Find unique values for grade level\n",
    "kipp_maps_df.grade_level_2019.unique()\n",
    "\n",
    "#QUESTION: Is 0 kindergarten or an unknown grade? "
   ]
  },
  {
   "cell_type": "code",
   "execution_count": 9,
   "id": "abb7323e",
   "metadata": {},
   "outputs": [
    {
     "data": {
      "text/plain": [
       "array([2019], dtype=int64)"
      ]
     },
     "execution_count": 9,
     "metadata": {},
     "output_type": "execute_result"
    }
   ],
   "source": [
    "# Find unique values for year\n",
    "kipp_maps_df.year.unique()"
   ]
  },
  {
   "cell_type": "code",
   "execution_count": 10,
   "id": "220e13fe",
   "metadata": {},
   "outputs": [
    {
     "data": {
      "text/plain": [
       "array(['Fall', 'Spring'], dtype=object)"
      ]
     },
     "execution_count": 10,
     "metadata": {},
     "output_type": "execute_result"
    }
   ],
   "source": [
    "# Find unique values for map_term\n",
    "kipp_maps_df.map_term.unique()"
   ]
  },
  {
   "cell_type": "code",
   "execution_count": 11,
   "id": "b37d7d1c",
   "metadata": {},
   "outputs": [
    {
     "data": {
      "text/plain": [
       "array(['Reading', 'Math', 'Read'], dtype=object)"
      ]
     },
     "execution_count": 11,
     "metadata": {},
     "output_type": "execute_result"
    }
   ],
   "source": [
    "# Find unique values for subject\n",
    "kipp_maps_df.subject.unique()"
   ]
  },
  {
   "cell_type": "code",
   "execution_count": 12,
   "id": "61e0bbdb",
   "metadata": {},
   "outputs": [
    {
     "data": {
      "text/plain": [
       "Math       5562\n",
       "Reading    5454\n",
       "Read        106\n",
       "Name: subject, dtype: int64"
      ]
     },
     "execution_count": 12,
     "metadata": {},
     "output_type": "execute_result"
    }
   ],
   "source": [
    "# Identifying how many 'Read' values exist\n",
    "kipp_maps_df['subject'].value_counts()"
   ]
  },
  {
   "cell_type": "code",
   "execution_count": 13,
   "id": "75f05e97",
   "metadata": {},
   "outputs": [],
   "source": [
    "# Replace 'Read' in the subject column with 'Reading'\n",
    "kipp_maps_df.replace(\"Read\", \"Reading\", inplace=True)"
   ]
  },
  {
   "cell_type": "code",
   "execution_count": 14,
   "id": "6c42fc43",
   "metadata": {},
   "outputs": [
    {
     "data": {
      "text/plain": [
       "Math       5562\n",
       "Reading    5560\n",
       "Name: subject, dtype: int64"
      ]
     },
     "execution_count": 14,
     "metadata": {},
     "output_type": "execute_result"
    }
   ],
   "source": [
    "# Ensuring all 'Read' values have been changed to 'Reading'\n",
    "kipp_maps_df['subject'].value_counts()"
   ]
  },
  {
   "cell_type": "code",
   "execution_count": 15,
   "id": "e7d2474b",
   "metadata": {},
   "outputs": [
    {
     "data": {
      "text/plain": [
       "array(['SPED', '.', 'LEP', 'Tier 2', 'Gifted', nan, '504', 'SPED '],\n",
       "      dtype=object)"
      ]
     },
     "execution_count": 15,
     "metadata": {},
     "output_type": "execute_result"
    }
   ],
   "source": [
    "# Find unique values for program_name\n",
    "kipp_maps_df.program_name.unique()"
   ]
  },
  {
   "cell_type": "code",
   "execution_count": 16,
   "id": "0c2a2259",
   "metadata": {},
   "outputs": [],
   "source": [
    "# Fill nan for program_name with 'GenEd'\n",
    "kipp_maps_df['program_name'] = kipp_maps_df['program_name'].fillna('GenEd')\n",
    "\n",
    "# QUESTION: Is 'nan' a student with no special program? "
   ]
  },
  {
   "cell_type": "code",
   "execution_count": 17,
   "id": "d369eddc",
   "metadata": {},
   "outputs": [
    {
     "data": {
      "text/plain": [
       "array(['SPED', '.', 'LEP', 'Tier 2', 'Gifted', 'GenEd', '504', 'SPED '],\n",
       "      dtype=object)"
      ]
     },
     "execution_count": 17,
     "metadata": {},
     "output_type": "execute_result"
    }
   ],
   "source": [
    "# Find unique values for program_name\n",
    "kipp_maps_df.program_name.unique()"
   ]
  },
  {
   "cell_type": "code",
   "execution_count": 18,
   "id": "12710e23",
   "metadata": {},
   "outputs": [],
   "source": [
    "# Replace '.' in the program_name column with 'GenEd'\n",
    "kipp_maps_df['program_name'].replace(\".\", \"GenEd\", inplace=True)"
   ]
  },
  {
   "cell_type": "code",
   "execution_count": 19,
   "id": "bff76c63",
   "metadata": {},
   "outputs": [
    {
     "data": {
      "text/plain": [
       "array(['SPED', 'GenEd', 'LEP', 'Tier 2', 'Gifted', '504', 'SPED '],\n",
       "      dtype=object)"
      ]
     },
     "execution_count": 19,
     "metadata": {},
     "output_type": "execute_result"
    }
   ],
   "source": [
    "# Find unique values for program_name\n",
    "kipp_maps_df.program_name.unique()"
   ]
  },
  {
   "cell_type": "code",
   "execution_count": 20,
   "id": "bf8570f8",
   "metadata": {},
   "outputs": [
    {
     "data": {
      "text/html": [
       "<div>\n",
       "<style scoped>\n",
       "    .dataframe tbody tr th:only-of-type {\n",
       "        vertical-align: middle;\n",
       "    }\n",
       "\n",
       "    .dataframe tbody tr th {\n",
       "        vertical-align: top;\n",
       "    }\n",
       "\n",
       "    .dataframe thead th {\n",
       "        text-align: right;\n",
       "    }\n",
       "</style>\n",
       "<table border=\"1\" class=\"dataframe\">\n",
       "  <thead>\n",
       "    <tr style=\"text-align: right;\">\n",
       "      <th></th>\n",
       "      <th>student_id</th>\n",
       "      <th>school_name</th>\n",
       "      <th>grade_level_2019</th>\n",
       "      <th>year</th>\n",
       "      <th>program_name</th>\n",
       "      <th>map_term</th>\n",
       "      <th>subject</th>\n",
       "      <th>rit_score</th>\n",
       "      <th>percentile</th>\n",
       "      <th>quartile</th>\n",
       "      <th>typical_fall_to_spring_growth</th>\n",
       "    </tr>\n",
       "  </thead>\n",
       "  <tbody>\n",
       "    <tr>\n",
       "      <th>2900</th>\n",
       "      <td>15424</td>\n",
       "      <td>School E</td>\n",
       "      <td>3</td>\n",
       "      <td>2019</td>\n",
       "      <td>GenEd</td>\n",
       "      <td>Fall</td>\n",
       "      <td>Reading</td>\n",
       "      <td>176</td>\n",
       "      <td>20</td>\n",
       "      <td>1</td>\n",
       "      <td>13</td>\n",
       "    </tr>\n",
       "    <tr>\n",
       "      <th>435</th>\n",
       "      <td>10791</td>\n",
       "      <td>School G</td>\n",
       "      <td>1</td>\n",
       "      <td>2019</td>\n",
       "      <td>GenEd</td>\n",
       "      <td>Spring</td>\n",
       "      <td>Math</td>\n",
       "      <td>187</td>\n",
       "      <td>68</td>\n",
       "      <td>3</td>\n",
       "      <td>.</td>\n",
       "    </tr>\n",
       "    <tr>\n",
       "      <th>8262</th>\n",
       "      <td>17147</td>\n",
       "      <td>School A</td>\n",
       "      <td>7</td>\n",
       "      <td>2019</td>\n",
       "      <td>GenEd</td>\n",
       "      <td>Fall</td>\n",
       "      <td>Reading</td>\n",
       "      <td>229</td>\n",
       "      <td>82</td>\n",
       "      <td>4</td>\n",
       "      <td>2</td>\n",
       "    </tr>\n",
       "    <tr>\n",
       "      <th>7319</th>\n",
       "      <td>12321</td>\n",
       "      <td>School D</td>\n",
       "      <td>7</td>\n",
       "      <td>2019</td>\n",
       "      <td>504</td>\n",
       "      <td>Fall</td>\n",
       "      <td>Math</td>\n",
       "      <td>214</td>\n",
       "      <td>25</td>\n",
       "      <td>2</td>\n",
       "      <td>6</td>\n",
       "    </tr>\n",
       "    <tr>\n",
       "      <th>1064</th>\n",
       "      <td>17517</td>\n",
       "      <td>School F</td>\n",
       "      <td>1</td>\n",
       "      <td>2019</td>\n",
       "      <td>GenEd</td>\n",
       "      <td>Fall</td>\n",
       "      <td>Reading</td>\n",
       "      <td>168</td>\n",
       "      <td>78</td>\n",
       "      <td>4</td>\n",
       "      <td>17</td>\n",
       "    </tr>\n",
       "    <tr>\n",
       "      <th>1397</th>\n",
       "      <td>27275</td>\n",
       "      <td>School F</td>\n",
       "      <td>2</td>\n",
       "      <td>2019</td>\n",
       "      <td>GenEd</td>\n",
       "      <td>Fall</td>\n",
       "      <td>Math</td>\n",
       "      <td>186</td>\n",
       "      <td>65</td>\n",
       "      <td>3</td>\n",
       "      <td>11</td>\n",
       "    </tr>\n",
       "    <tr>\n",
       "      <th>382</th>\n",
       "      <td>18632</td>\n",
       "      <td>School G</td>\n",
       "      <td>1</td>\n",
       "      <td>2019</td>\n",
       "      <td>GenEd</td>\n",
       "      <td>Spring</td>\n",
       "      <td>Reading</td>\n",
       "      <td>175</td>\n",
       "      <td>43</td>\n",
       "      <td>2</td>\n",
       "      <td>.</td>\n",
       "    </tr>\n",
       "    <tr>\n",
       "      <th>5132</th>\n",
       "      <td>20617</td>\n",
       "      <td>School B</td>\n",
       "      <td>5</td>\n",
       "      <td>2019</td>\n",
       "      <td>GenEd</td>\n",
       "      <td>Fall</td>\n",
       "      <td>Reading</td>\n",
       "      <td>181</td>\n",
       "      <td>5</td>\n",
       "      <td>1</td>\n",
       "      <td>10</td>\n",
       "    </tr>\n",
       "    <tr>\n",
       "      <th>4340</th>\n",
       "      <td>18132</td>\n",
       "      <td>School A</td>\n",
       "      <td>5</td>\n",
       "      <td>2019</td>\n",
       "      <td>GenEd</td>\n",
       "      <td>Fall</td>\n",
       "      <td>Reading</td>\n",
       "      <td>190</td>\n",
       "      <td>15</td>\n",
       "      <td>1</td>\n",
       "      <td>8</td>\n",
       "    </tr>\n",
       "    <tr>\n",
       "      <th>2293</th>\n",
       "      <td>13309</td>\n",
       "      <td>School G</td>\n",
       "      <td>2</td>\n",
       "      <td>2019</td>\n",
       "      <td>GenEd</td>\n",
       "      <td>Fall</td>\n",
       "      <td>Math</td>\n",
       "      <td>177</td>\n",
       "      <td>39</td>\n",
       "      <td>2</td>\n",
       "      <td>13</td>\n",
       "    </tr>\n",
       "    <tr>\n",
       "      <th>112</th>\n",
       "      <td>20470</td>\n",
       "      <td>School G</td>\n",
       "      <td>1</td>\n",
       "      <td>2019</td>\n",
       "      <td>GenEd</td>\n",
       "      <td>Fall</td>\n",
       "      <td>Reading</td>\n",
       "      <td>164</td>\n",
       "      <td>68</td>\n",
       "      <td>3</td>\n",
       "      <td>18</td>\n",
       "    </tr>\n",
       "    <tr>\n",
       "      <th>2946</th>\n",
       "      <td>26479</td>\n",
       "      <td>School E</td>\n",
       "      <td>3</td>\n",
       "      <td>2019</td>\n",
       "      <td>Tier 2</td>\n",
       "      <td>Spring</td>\n",
       "      <td>Reading</td>\n",
       "      <td>187</td>\n",
       "      <td>22</td>\n",
       "      <td>1</td>\n",
       "      <td>.</td>\n",
       "    </tr>\n",
       "    <tr>\n",
       "      <th>1020</th>\n",
       "      <td>19058</td>\n",
       "      <td>School F</td>\n",
       "      <td>1</td>\n",
       "      <td>2019</td>\n",
       "      <td>GenEd</td>\n",
       "      <td>Fall</td>\n",
       "      <td>Reading</td>\n",
       "      <td>157</td>\n",
       "      <td>46</td>\n",
       "      <td>2</td>\n",
       "      <td>19</td>\n",
       "    </tr>\n",
       "    <tr>\n",
       "      <th>1528</th>\n",
       "      <td>21213</td>\n",
       "      <td>School F</td>\n",
       "      <td>2</td>\n",
       "      <td>2019</td>\n",
       "      <td>GenEd</td>\n",
       "      <td>Fall</td>\n",
       "      <td>Reading</td>\n",
       "      <td>171</td>\n",
       "      <td>33</td>\n",
       "      <td>2</td>\n",
       "      <td>12</td>\n",
       "    </tr>\n",
       "    <tr>\n",
       "      <th>4082</th>\n",
       "      <td>12189</td>\n",
       "      <td>School B</td>\n",
       "      <td>5</td>\n",
       "      <td>2019</td>\n",
       "      <td>GenEd</td>\n",
       "      <td>Spring</td>\n",
       "      <td>Reading</td>\n",
       "      <td>208</td>\n",
       "      <td>40</td>\n",
       "      <td>2</td>\n",
       "      <td>.</td>\n",
       "    </tr>\n",
       "  </tbody>\n",
       "</table>\n",
       "</div>"
      ],
      "text/plain": [
       "      student_id school_name  grade_level_2019  year program_name map_term  \\\n",
       "2900       15424    School E                 3  2019        GenEd     Fall   \n",
       "435        10791    School G                 1  2019        GenEd   Spring   \n",
       "8262       17147    School A                 7  2019        GenEd     Fall   \n",
       "7319       12321    School D                 7  2019          504     Fall   \n",
       "1064       17517    School F                 1  2019        GenEd     Fall   \n",
       "1397       27275    School F                 2  2019        GenEd     Fall   \n",
       "382        18632    School G                 1  2019        GenEd   Spring   \n",
       "5132       20617    School B                 5  2019        GenEd     Fall   \n",
       "4340       18132    School A                 5  2019        GenEd     Fall   \n",
       "2293       13309    School G                 2  2019        GenEd     Fall   \n",
       "112        20470    School G                 1  2019        GenEd     Fall   \n",
       "2946       26479    School E                 3  2019       Tier 2   Spring   \n",
       "1020       19058    School F                 1  2019        GenEd     Fall   \n",
       "1528       21213    School F                 2  2019        GenEd     Fall   \n",
       "4082       12189    School B                 5  2019        GenEd   Spring   \n",
       "\n",
       "      subject rit_score percentile quartile typical_fall_to_spring_growth  \n",
       "2900  Reading       176         20        1                            13  \n",
       "435      Math       187         68        3                             .  \n",
       "8262  Reading       229         82        4                             2  \n",
       "7319     Math       214         25        2                             6  \n",
       "1064  Reading       168         78        4                            17  \n",
       "1397     Math       186         65        3                            11  \n",
       "382   Reading       175         43        2                             .  \n",
       "5132  Reading       181          5        1                            10  \n",
       "4340  Reading       190         15        1                             8  \n",
       "2293     Math       177         39        2                            13  \n",
       "112   Reading       164         68        3                            18  \n",
       "2946  Reading       187         22        1                             .  \n",
       "1020  Reading       157         46        2                            19  \n",
       "1528  Reading       171         33        2                            12  \n",
       "4082  Reading       208         40        2                             .  "
      ]
     },
     "execution_count": 20,
     "metadata": {},
     "output_type": "execute_result"
    }
   ],
   "source": [
    "# Reordering columns and showing a sample to ensure dataframe is functional/code is working\n",
    "kipp_maps_df = kipp_maps_df[['student_id', 'school_name', 'grade_level_2019', 'year', 'program_name', 'map_term', \n",
    "                             'subject', 'rit_score', 'percentile', 'quartile', \n",
    "                            'typical_fall_to_spring_growth']]\n",
    "kipp_maps_df.sample(15)"
   ]
  },
  {
   "cell_type": "code",
   "execution_count": 21,
   "id": "db3e47c7",
   "metadata": {},
   "outputs": [],
   "source": [
    "# Exporting the dataframe to a CSV\n",
    "filepath = Path('Resources/kipp_maps.csv')  \n",
    "filepath.parent.mkdir(parents=True, exist_ok=True)  \n",
    "kipp_maps_df.to_csv(filepath, index = False)  "
   ]
  },
  {
   "cell_type": "markdown",
   "id": "87d9c577",
   "metadata": {},
   "source": [
    "## Finding and Exporting Unique student_ids"
   ]
  },
  {
   "cell_type": "code",
   "execution_count": 22,
   "id": "3b0350d6",
   "metadata": {},
   "outputs": [
    {
     "data": {
      "text/plain": [
       "2787"
      ]
     },
     "execution_count": 22,
     "metadata": {},
     "output_type": "execute_result"
    }
   ],
   "source": [
    "# Finding the number of unique student ids\n",
    "kipp_maps_df.student_id.nunique()"
   ]
  },
  {
   "cell_type": "code",
   "execution_count": 23,
   "id": "758fdac8",
   "metadata": {},
   "outputs": [],
   "source": [
    "# Creating an array of unique student ids\n",
    "student_id_array = kipp_maps_df.student_id.unique()"
   ]
  },
  {
   "cell_type": "code",
   "execution_count": 24,
   "id": "43cd9747",
   "metadata": {},
   "outputs": [
    {
     "name": "stdout",
     "output_type": "stream",
     "text": [
      "      student_id\n",
      "0          13898\n",
      "1          27795\n",
      "2          22938\n",
      "3          22431\n",
      "4          18048\n",
      "...          ...\n",
      "2782       28744\n",
      "2783       12169\n",
      "2784       24197\n",
      "2785       27656\n",
      "2786       29777\n",
      "\n",
      "[2787 rows x 1 columns]\n"
     ]
    }
   ],
   "source": [
    "# Converting the array into a dataframe\n",
    "student_id_df = pd.DataFrame(student_id_array, columns = ['student_id'])\n",
    "print(student_id_df)"
   ]
  },
  {
   "cell_type": "code",
   "execution_count": 25,
   "id": "241bef21",
   "metadata": {},
   "outputs": [],
   "source": [
    "# Exporting unique student ids dataframe to a csv file\n",
    "student_id_df.to_csv('Resources/unique_student_ids.csv', index=False)"
   ]
  },
  {
   "cell_type": "markdown",
   "id": "2a13fa1b",
   "metadata": {},
   "source": [
    "## Understanding  & Managing Null Values"
   ]
  },
  {
   "cell_type": "code",
   "execution_count": 26,
   "id": "2c0bb532",
   "metadata": {},
   "outputs": [
    {
     "data": {
      "text/html": [
       "<div>\n",
       "<style scoped>\n",
       "    .dataframe tbody tr th:only-of-type {\n",
       "        vertical-align: middle;\n",
       "    }\n",
       "\n",
       "    .dataframe tbody tr th {\n",
       "        vertical-align: top;\n",
       "    }\n",
       "\n",
       "    .dataframe thead th {\n",
       "        text-align: right;\n",
       "    }\n",
       "</style>\n",
       "<table border=\"1\" class=\"dataframe\">\n",
       "  <thead>\n",
       "    <tr style=\"text-align: right;\">\n",
       "      <th></th>\n",
       "      <th>student_id</th>\n",
       "      <th>school_name</th>\n",
       "      <th>grade_level_2019</th>\n",
       "      <th>year</th>\n",
       "      <th>program_name</th>\n",
       "      <th>fall_math_rit_score</th>\n",
       "      <th>fall_math_percentile</th>\n",
       "      <th>fall_math_quartile</th>\n",
       "      <th>spring_math_rit_score</th>\n",
       "      <th>spring_math_percentile</th>\n",
       "      <th>...</th>\n",
       "      <th>math_growth_difference</th>\n",
       "      <th>fall_reading_rit_score</th>\n",
       "      <th>fall_reading_percentile</th>\n",
       "      <th>fall_reading_quartile</th>\n",
       "      <th>spring_reading_rit_score</th>\n",
       "      <th>spring_reading_percentile</th>\n",
       "      <th>spring_reading_quartile</th>\n",
       "      <th>typical_reading_fall_to_spring_growth</th>\n",
       "      <th>actual_reading_fall_to_spring_growth</th>\n",
       "      <th>reading_growth_difference</th>\n",
       "    </tr>\n",
       "  </thead>\n",
       "  <tbody>\n",
       "    <tr>\n",
       "      <th>2330</th>\n",
       "      <td>20366</td>\n",
       "      <td>School D</td>\n",
       "      <td>8</td>\n",
       "      <td>2019</td>\n",
       "      <td>GenEd</td>\n",
       "      <td>.</td>\n",
       "      <td>.</td>\n",
       "      <td>.</td>\n",
       "      <td>223</td>\n",
       "      <td>34</td>\n",
       "      <td>...</td>\n",
       "      <td>#VALUE!</td>\n",
       "      <td>.</td>\n",
       "      <td>.</td>\n",
       "      <td>.</td>\n",
       "      <td>209</td>\n",
       "      <td>24</td>\n",
       "      <td>1</td>\n",
       "      <td>.</td>\n",
       "      <td>#VALUE!</td>\n",
       "      <td>#VALUE!</td>\n",
       "    </tr>\n",
       "    <tr>\n",
       "      <th>1926</th>\n",
       "      <td>19122</td>\n",
       "      <td>School D</td>\n",
       "      <td>7</td>\n",
       "      <td>2019</td>\n",
       "      <td>GenEd</td>\n",
       "      <td>198</td>\n",
       "      <td>5</td>\n",
       "      <td>1</td>\n",
       "      <td>203</td>\n",
       "      <td>7</td>\n",
       "      <td>...</td>\n",
       "      <td>-2</td>\n",
       "      <td>212</td>\n",
       "      <td>40</td>\n",
       "      <td>2</td>\n",
       "      <td>212</td>\n",
       "      <td>34</td>\n",
       "      <td>2</td>\n",
       "      <td>4</td>\n",
       "      <td>0</td>\n",
       "      <td>-4</td>\n",
       "    </tr>\n",
       "    <tr>\n",
       "      <th>1055</th>\n",
       "      <td>17116</td>\n",
       "      <td>School B</td>\n",
       "      <td>5</td>\n",
       "      <td>2019</td>\n",
       "      <td>GenEd</td>\n",
       "      <td>212</td>\n",
       "      <td>52</td>\n",
       "      <td>3</td>\n",
       "      <td>230</td>\n",
       "      <td>70</td>\n",
       "      <td>...</td>\n",
       "      <td>8</td>\n",
       "      <td>204</td>\n",
       "      <td>46</td>\n",
       "      <td>2</td>\n",
       "      <td>218</td>\n",
       "      <td>66</td>\n",
       "      <td>3</td>\n",
       "      <td>6</td>\n",
       "      <td>14</td>\n",
       "      <td>8</td>\n",
       "    </tr>\n",
       "    <tr>\n",
       "      <th>91</th>\n",
       "      <td>23410</td>\n",
       "      <td>School G</td>\n",
       "      <td>1</td>\n",
       "      <td>2019</td>\n",
       "      <td>GenEd</td>\n",
       "      <td>176</td>\n",
       "      <td>89</td>\n",
       "      <td>4</td>\n",
       "      <td>192</td>\n",
       "      <td>79</td>\n",
       "      <td>...</td>\n",
       "      <td>-1</td>\n",
       "      <td>171</td>\n",
       "      <td>84</td>\n",
       "      <td>4</td>\n",
       "      <td>190</td>\n",
       "      <td>81</td>\n",
       "      <td>4</td>\n",
       "      <td>16</td>\n",
       "      <td>19</td>\n",
       "      <td>3</td>\n",
       "    </tr>\n",
       "    <tr>\n",
       "      <th>2590</th>\n",
       "      <td>11853</td>\n",
       "      <td>School F</td>\n",
       "      <td>0</td>\n",
       "      <td>2019</td>\n",
       "      <td>GenEd</td>\n",
       "      <td>150</td>\n",
       "      <td>75</td>\n",
       "      <td>4</td>\n",
       "      <td>177</td>\n",
       "      <td>90</td>\n",
       "      <td>...</td>\n",
       "      <td>10</td>\n",
       "      <td>150</td>\n",
       "      <td>75</td>\n",
       "      <td>4</td>\n",
       "      <td>177</td>\n",
       "      <td>93</td>\n",
       "      <td>4</td>\n",
       "      <td>15</td>\n",
       "      <td>27</td>\n",
       "      <td>12</td>\n",
       "    </tr>\n",
       "    <tr>\n",
       "      <th>1820</th>\n",
       "      <td>12801</td>\n",
       "      <td>School A</td>\n",
       "      <td>7</td>\n",
       "      <td>2019</td>\n",
       "      <td>GenEd</td>\n",
       "      <td>217</td>\n",
       "      <td>31</td>\n",
       "      <td>2</td>\n",
       "      <td>225</td>\n",
       "      <td>42</td>\n",
       "      <td>...</td>\n",
       "      <td>3</td>\n",
       "      <td>216</td>\n",
       "      <td>51</td>\n",
       "      <td>3</td>\n",
       "      <td>223</td>\n",
       "      <td>63</td>\n",
       "      <td>3</td>\n",
       "      <td>4</td>\n",
       "      <td>7</td>\n",
       "      <td>3</td>\n",
       "    </tr>\n",
       "    <tr>\n",
       "      <th>1526</th>\n",
       "      <td>13962</td>\n",
       "      <td>School A</td>\n",
       "      <td>6</td>\n",
       "      <td>2019</td>\n",
       "      <td>SPED</td>\n",
       "      <td>184</td>\n",
       "      <td>1</td>\n",
       "      <td>1</td>\n",
       "      <td>203</td>\n",
       "      <td>13</td>\n",
       "      <td>...</td>\n",
       "      <td>10</td>\n",
       "      <td>183</td>\n",
       "      <td>3</td>\n",
       "      <td>1</td>\n",
       "      <td>195</td>\n",
       "      <td>13</td>\n",
       "      <td>1</td>\n",
       "      <td>10</td>\n",
       "      <td>12</td>\n",
       "      <td>2</td>\n",
       "    </tr>\n",
       "    <tr>\n",
       "      <th>2075</th>\n",
       "      <td>29326</td>\n",
       "      <td>School D</td>\n",
       "      <td>7</td>\n",
       "      <td>2019</td>\n",
       "      <td>GenEd</td>\n",
       "      <td>.</td>\n",
       "      <td>.</td>\n",
       "      <td>.</td>\n",
       "      <td>210</td>\n",
       "      <td>15</td>\n",
       "      <td>...</td>\n",
       "      <td>#VALUE!</td>\n",
       "      <td>.</td>\n",
       "      <td>.</td>\n",
       "      <td>.</td>\n",
       "      <td>202</td>\n",
       "      <td>14</td>\n",
       "      <td>1</td>\n",
       "      <td>.</td>\n",
       "      <td>#VALUE!</td>\n",
       "      <td>#VALUE!</td>\n",
       "    </tr>\n",
       "    <tr>\n",
       "      <th>1748</th>\n",
       "      <td>20427</td>\n",
       "      <td>School B</td>\n",
       "      <td>7</td>\n",
       "      <td>2019</td>\n",
       "      <td>GenEd</td>\n",
       "      <td>245</td>\n",
       "      <td>88</td>\n",
       "      <td>4</td>\n",
       "      <td>257</td>\n",
       "      <td>95</td>\n",
       "      <td>...</td>\n",
       "      <td>9</td>\n",
       "      <td>229</td>\n",
       "      <td>82</td>\n",
       "      <td>4</td>\n",
       "      <td>225</td>\n",
       "      <td>67</td>\n",
       "      <td>3</td>\n",
       "      <td>2</td>\n",
       "      <td>-4</td>\n",
       "      <td>-6</td>\n",
       "    </tr>\n",
       "    <tr>\n",
       "      <th>1271</th>\n",
       "      <td>19299</td>\n",
       "      <td>School A</td>\n",
       "      <td>5</td>\n",
       "      <td>2019</td>\n",
       "      <td>GenEd</td>\n",
       "      <td>216</td>\n",
       "      <td>62</td>\n",
       "      <td>3</td>\n",
       "      <td>231</td>\n",
       "      <td>72</td>\n",
       "      <td>...</td>\n",
       "      <td>5</td>\n",
       "      <td>209</td>\n",
       "      <td>59</td>\n",
       "      <td>3</td>\n",
       "      <td>226</td>\n",
       "      <td>83</td>\n",
       "      <td>4</td>\n",
       "      <td>6</td>\n",
       "      <td>17</td>\n",
       "      <td>11</td>\n",
       "    </tr>\n",
       "    <tr>\n",
       "      <th>518</th>\n",
       "      <td>18953</td>\n",
       "      <td>School G</td>\n",
       "      <td>2</td>\n",
       "      <td>2019</td>\n",
       "      <td>GenEd</td>\n",
       "      <td>191</td>\n",
       "      <td>77</td>\n",
       "      <td>4</td>\n",
       "      <td>200</td>\n",
       "      <td>72</td>\n",
       "      <td>...</td>\n",
       "      <td>-1</td>\n",
       "      <td>187</td>\n",
       "      <td>74</td>\n",
       "      <td>3</td>\n",
       "      <td>195</td>\n",
       "      <td>66</td>\n",
       "      <td>3</td>\n",
       "      <td>9</td>\n",
       "      <td>8</td>\n",
       "      <td>-1</td>\n",
       "    </tr>\n",
       "    <tr>\n",
       "      <th>2485</th>\n",
       "      <td>14166</td>\n",
       "      <td>School G</td>\n",
       "      <td>0</td>\n",
       "      <td>2019</td>\n",
       "      <td>GenEd</td>\n",
       "      <td>130</td>\n",
       "      <td>25</td>\n",
       "      <td>2</td>\n",
       "      <td>169</td>\n",
       "      <td>76</td>\n",
       "      <td>...</td>\n",
       "      <td>18</td>\n",
       "      <td>139</td>\n",
       "      <td>44</td>\n",
       "      <td>2</td>\n",
       "      <td>176</td>\n",
       "      <td>92</td>\n",
       "      <td>4</td>\n",
       "      <td>18</td>\n",
       "      <td>37</td>\n",
       "      <td>19</td>\n",
       "    </tr>\n",
       "    <tr>\n",
       "      <th>2320</th>\n",
       "      <td>21809</td>\n",
       "      <td>School A</td>\n",
       "      <td>8</td>\n",
       "      <td>2019</td>\n",
       "      <td>GenEd</td>\n",
       "      <td>224</td>\n",
       "      <td>40</td>\n",
       "      <td>2</td>\n",
       "      <td>218</td>\n",
       "      <td>25</td>\n",
       "      <td>...</td>\n",
       "      <td>-10</td>\n",
       "      <td>203</td>\n",
       "      <td>16</td>\n",
       "      <td>1</td>\n",
       "      <td>213</td>\n",
       "      <td>33</td>\n",
       "      <td>2</td>\n",
       "      <td>5</td>\n",
       "      <td>10</td>\n",
       "      <td>5</td>\n",
       "    </tr>\n",
       "    <tr>\n",
       "      <th>3</th>\n",
       "      <td>22431</td>\n",
       "      <td>School F</td>\n",
       "      <td>1</td>\n",
       "      <td>2019</td>\n",
       "      <td>GenEd</td>\n",
       "      <td>164</td>\n",
       "      <td>64</td>\n",
       "      <td>3</td>\n",
       "      <td>180</td>\n",
       "      <td>48</td>\n",
       "      <td>...</td>\n",
       "      <td>-4</td>\n",
       "      <td>162</td>\n",
       "      <td>62</td>\n",
       "      <td>3</td>\n",
       "      <td>174</td>\n",
       "      <td>40</td>\n",
       "      <td>2</td>\n",
       "      <td>18</td>\n",
       "      <td>12</td>\n",
       "      <td>-6</td>\n",
       "    </tr>\n",
       "    <tr>\n",
       "      <th>1951</th>\n",
       "      <td>18690</td>\n",
       "      <td>School C</td>\n",
       "      <td>7</td>\n",
       "      <td>2019</td>\n",
       "      <td>GenEd</td>\n",
       "      <td>227</td>\n",
       "      <td>54</td>\n",
       "      <td>3</td>\n",
       "      <td>210</td>\n",
       "      <td>15</td>\n",
       "      <td>...</td>\n",
       "      <td>-22</td>\n",
       "      <td>227</td>\n",
       "      <td>78</td>\n",
       "      <td>4</td>\n",
       "      <td>219</td>\n",
       "      <td>52</td>\n",
       "      <td>3</td>\n",
       "      <td>2</td>\n",
       "      <td>-8</td>\n",
       "      <td>-10</td>\n",
       "    </tr>\n",
       "  </tbody>\n",
       "</table>\n",
       "<p>15 rows × 23 columns</p>\n",
       "</div>"
      ],
      "text/plain": [
       "      student_id school_name  grade_level_2019  year program_name  \\\n",
       "2330       20366    School D                 8  2019        GenEd   \n",
       "1926       19122    School D                 7  2019        GenEd   \n",
       "1055       17116    School B                 5  2019        GenEd   \n",
       "91         23410    School G                 1  2019        GenEd   \n",
       "2590       11853    School F                 0  2019        GenEd   \n",
       "1820       12801    School A                 7  2019        GenEd   \n",
       "1526       13962    School A                 6  2019         SPED   \n",
       "2075       29326    School D                 7  2019        GenEd   \n",
       "1748       20427    School B                 7  2019        GenEd   \n",
       "1271       19299    School A                 5  2019        GenEd   \n",
       "518        18953    School G                 2  2019        GenEd   \n",
       "2485       14166    School G                 0  2019        GenEd   \n",
       "2320       21809    School A                 8  2019        GenEd   \n",
       "3          22431    School F                 1  2019        GenEd   \n",
       "1951       18690    School C                 7  2019        GenEd   \n",
       "\n",
       "     fall_math_rit_score fall_math_percentile fall_math_quartile  \\\n",
       "2330                   .                    .                  .   \n",
       "1926                 198                    5                  1   \n",
       "1055                 212                   52                  3   \n",
       "91                   176                   89                  4   \n",
       "2590                 150                   75                  4   \n",
       "1820                 217                   31                  2   \n",
       "1526                 184                    1                  1   \n",
       "2075                   .                    .                  .   \n",
       "1748                 245                   88                  4   \n",
       "1271                 216                   62                  3   \n",
       "518                  191                   77                  4   \n",
       "2485                 130                   25                  2   \n",
       "2320                 224                   40                  2   \n",
       "3                    164                   64                  3   \n",
       "1951                 227                   54                  3   \n",
       "\n",
       "     spring_math_rit_score spring_math_percentile  ... math_growth_difference  \\\n",
       "2330                   223                     34  ...                #VALUE!   \n",
       "1926                   203                      7  ...                     -2   \n",
       "1055                   230                     70  ...                      8   \n",
       "91                     192                     79  ...                     -1   \n",
       "2590                   177                     90  ...                     10   \n",
       "1820                   225                     42  ...                      3   \n",
       "1526                   203                     13  ...                     10   \n",
       "2075                   210                     15  ...                #VALUE!   \n",
       "1748                   257                     95  ...                      9   \n",
       "1271                   231                     72  ...                      5   \n",
       "518                    200                     72  ...                     -1   \n",
       "2485                   169                     76  ...                     18   \n",
       "2320                   218                     25  ...                    -10   \n",
       "3                      180                     48  ...                     -4   \n",
       "1951                   210                     15  ...                    -22   \n",
       "\n",
       "     fall_reading_rit_score fall_reading_percentile fall_reading_quartile  \\\n",
       "2330                      .                       .                     .   \n",
       "1926                    212                      40                     2   \n",
       "1055                    204                      46                     2   \n",
       "91                      171                      84                     4   \n",
       "2590                    150                      75                     4   \n",
       "1820                    216                      51                     3   \n",
       "1526                    183                       3                     1   \n",
       "2075                      .                       .                     .   \n",
       "1748                    229                      82                     4   \n",
       "1271                    209                      59                     3   \n",
       "518                     187                      74                     3   \n",
       "2485                    139                      44                     2   \n",
       "2320                    203                      16                     1   \n",
       "3                       162                      62                     3   \n",
       "1951                    227                      78                     4   \n",
       "\n",
       "     spring_reading_rit_score spring_reading_percentile  \\\n",
       "2330                      209                        24   \n",
       "1926                      212                        34   \n",
       "1055                      218                        66   \n",
       "91                        190                        81   \n",
       "2590                      177                        93   \n",
       "1820                      223                        63   \n",
       "1526                      195                        13   \n",
       "2075                      202                        14   \n",
       "1748                      225                        67   \n",
       "1271                      226                        83   \n",
       "518                       195                        66   \n",
       "2485                      176                        92   \n",
       "2320                      213                        33   \n",
       "3                         174                        40   \n",
       "1951                      219                        52   \n",
       "\n",
       "     spring_reading_quartile typical_reading_fall_to_spring_growth  \\\n",
       "2330                       1                                     .   \n",
       "1926                       2                                     4   \n",
       "1055                       3                                     6   \n",
       "91                         4                                    16   \n",
       "2590                       4                                    15   \n",
       "1820                       3                                     4   \n",
       "1526                       1                                    10   \n",
       "2075                       1                                     .   \n",
       "1748                       3                                     2   \n",
       "1271                       4                                     6   \n",
       "518                        3                                     9   \n",
       "2485                       4                                    18   \n",
       "2320                       2                                     5   \n",
       "3                          2                                    18   \n",
       "1951                       3                                     2   \n",
       "\n",
       "     actual_reading_fall_to_spring_growth reading_growth_difference  \n",
       "2330                              #VALUE!                   #VALUE!  \n",
       "1926                                    0                        -4  \n",
       "1055                                   14                         8  \n",
       "91                                     19                         3  \n",
       "2590                                   27                        12  \n",
       "1820                                    7                         3  \n",
       "1526                                   12                         2  \n",
       "2075                              #VALUE!                   #VALUE!  \n",
       "1748                                   -4                        -6  \n",
       "1271                                   17                        11  \n",
       "518                                     8                        -1  \n",
       "2485                                   37                        19  \n",
       "2320                                   10                         5  \n",
       "3                                      12                        -6  \n",
       "1951                                   -8                       -10  \n",
       "\n",
       "[15 rows x 23 columns]"
      ]
     },
     "execution_count": 26,
     "metadata": {},
     "output_type": "execute_result"
    }
   ],
   "source": [
    "# Input updated csv into a dataframe\n",
    "kipp_maps_updated_df=pd.read_csv(\"Resources/kipp_maps_updated.csv\")\n",
    "kipp_maps_updated_df.sample(15)"
   ]
  },
  {
   "cell_type": "code",
   "execution_count": 27,
   "id": "5e665c26",
   "metadata": {},
   "outputs": [
    {
     "data": {
      "text/plain": [
       "2787"
      ]
     },
     "execution_count": 27,
     "metadata": {},
     "output_type": "execute_result"
    }
   ],
   "source": [
    "# Finding the total length of the dataframe \n",
    "len(kipp_maps_updated_df)"
   ]
  },
  {
   "cell_type": "code",
   "execution_count": 28,
   "id": "0fdab60f",
   "metadata": {},
   "outputs": [
    {
     "name": "stdout",
     "output_type": "stream",
     "text": [
      "252\n"
     ]
    }
   ],
   "source": [
    "# Finding the null values for fall math score\n",
    "print(kipp_maps_updated_df['fall_math_rit_score'].value_counts()['.'])"
   ]
  },
  {
   "cell_type": "code",
   "execution_count": 29,
   "id": "f1f34ecc",
   "metadata": {},
   "outputs": [
    {
     "name": "stdout",
     "output_type": "stream",
     "text": [
      "257\n"
     ]
    }
   ],
   "source": [
    "# Finding the null values for spring math score\n",
    "print(kipp_maps_updated_df['spring_math_rit_score'].value_counts()['.'])"
   ]
  },
  {
   "cell_type": "code",
   "execution_count": 30,
   "id": "d9f1bf6d",
   "metadata": {},
   "outputs": [
    {
     "name": "stdout",
     "output_type": "stream",
     "text": [
      "235\n"
     ]
    }
   ],
   "source": [
    "# Finding the null values for fall reading score\n",
    "print(kipp_maps_updated_df['fall_reading_rit_score'].value_counts()['.'])"
   ]
  },
  {
   "cell_type": "code",
   "execution_count": 31,
   "id": "57834f86",
   "metadata": {},
   "outputs": [
    {
     "name": "stdout",
     "output_type": "stream",
     "text": [
      "254\n"
     ]
    }
   ],
   "source": [
    "# Finding the null values for spring reading score\n",
    "print(kipp_maps_updated_df['spring_reading_rit_score'].value_counts()['.'])"
   ]
  },
  {
   "cell_type": "code",
   "execution_count": 32,
   "id": "30e99ab3",
   "metadata": {},
   "outputs": [
    {
     "data": {
      "text/plain": [
       "2535"
      ]
     },
     "execution_count": 32,
     "metadata": {},
     "output_type": "execute_result"
    }
   ],
   "source": [
    "# Creating fall math df with dropped null values \n",
    "fall_math_df = kipp_maps_updated_df[kipp_maps_updated_df.fall_math_rit_score != \".\"]\n",
    "fall_math_df.to_csv('Resources/fall_math.csv', index=False)\n",
    "len(fall_math_df)"
   ]
  },
  {
   "cell_type": "code",
   "execution_count": 33,
   "id": "d22a0bcb",
   "metadata": {},
   "outputs": [
    {
     "data": {
      "text/plain": [
       "2530"
      ]
     },
     "execution_count": 33,
     "metadata": {},
     "output_type": "execute_result"
    }
   ],
   "source": [
    "# Creating spring math df with dropped null values \n",
    "spring_math_df = kipp_maps_updated_df[kipp_maps_updated_df.spring_math_rit_score != \".\"]\n",
    "spring_math_df.to_csv('Resources/spring_math.csv', index=False)\n",
    "len(spring_math_df)"
   ]
  },
  {
   "cell_type": "code",
   "execution_count": 34,
   "id": "45c481ae",
   "metadata": {},
   "outputs": [
    {
     "data": {
      "text/plain": [
       "2552"
      ]
     },
     "execution_count": 34,
     "metadata": {},
     "output_type": "execute_result"
    }
   ],
   "source": [
    "# Creating fall math df with dropped null values \n",
    "fall_reading_df = kipp_maps_updated_df[kipp_maps_updated_df.fall_reading_rit_score != \".\"]\n",
    "fall_reading_df.to_csv('Resources/fall_reading.csv', index=False)\n",
    "len(fall_reading_df)"
   ]
  },
  {
   "cell_type": "code",
   "execution_count": 35,
   "id": "5659bfe6",
   "metadata": {},
   "outputs": [
    {
     "data": {
      "text/plain": [
       "2533"
      ]
     },
     "execution_count": 35,
     "metadata": {},
     "output_type": "execute_result"
    }
   ],
   "source": [
    "# Creating spring math df with dropped null values \n",
    "spring_reading_df = kipp_maps_updated_df[kipp_maps_updated_df.spring_reading_rit_score != \".\"]\n",
    "spring_reading_df.to_csv('Resources/spring_reading.csv', index=False)\n",
    "len(spring_reading_df)"
   ]
  },
  {
   "cell_type": "code",
   "execution_count": null,
   "id": "36449a51",
   "metadata": {},
   "outputs": [],
   "source": [
    "# Creating math growth df with dropped null values \n",
    "math_growth_df = kipp_maps_updated_df[kipp_maps_updated_df.actual_math_fall_to_spring_growth != \"#VALUE!\"]\n",
    "math_growth_df.to_csv('Resources/math"
   ]
  },
  {
   "cell_type": "code",
   "execution_count": 36,
   "id": "82f13895",
   "metadata": {},
   "outputs": [
    {
     "data": {
      "text/plain": [
       "2278"
      ]
     },
     "execution_count": 36,
     "metadata": {},
     "output_type": "execute_result"
    }
   ],
   "source": [
    "# Creating math growth df with dropped null values \n",
    "math_growth_df = kipp_maps_updated_df[kipp_maps_updated_df.actual_math_fall_to_spring_growth != \"#VALUE!\"]\n",
    "math_growth_df.to_csv('Resources/math_growth.csv', index=False)\n",
    "len(math_growth_df)"
   ]
  },
  {
   "cell_type": "code",
   "execution_count": 37,
   "id": "34eff1b2",
   "metadata": {},
   "outputs": [
    {
     "data": {
      "text/plain": [
       "2298"
      ]
     },
     "execution_count": 37,
     "metadata": {},
     "output_type": "execute_result"
    }
   ],
   "source": [
    "# Creating math growth df with dropped null values \n",
    "reading_growth_df = kipp_maps_updated_df[kipp_maps_updated_df.actual_reading_fall_to_spring_growth != \"#VALUE!\"]\n",
    "reading_growth_df.to_csv('Resources/reading_growth.csv', index=False)\n",
    "len(reading_growth_df)"
   ]
  },
  {
   "cell_type": "code",
   "execution_count": null,
   "id": "61d67f74",
   "metadata": {},
   "outputs": [],
   "source": []
  }
 ],
 "metadata": {
  "kernelspec": {
   "display_name": "Python 3 (ipykernel)",
   "language": "python",
   "name": "python3"
  },
  "language_info": {
   "codemirror_mode": {
    "name": "ipython",
    "version": 3
   },
   "file_extension": ".py",
   "mimetype": "text/x-python",
   "name": "python",
   "nbconvert_exporter": "python",
   "pygments_lexer": "ipython3",
   "version": "3.7.13"
  }
 },
 "nbformat": 4,
 "nbformat_minor": 5
}
